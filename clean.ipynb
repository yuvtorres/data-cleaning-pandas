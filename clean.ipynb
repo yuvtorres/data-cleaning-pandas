{
 "cells": [
  {
   "cell_type": "markdown",
   "metadata": {},
   "source": [
    "# First Panda Project - cleaning datasets"
   ]
  },
  {
   "cell_type": "markdown",
   "metadata": {},
   "source": [
    "### Importing\n"
   ]
  },
  {
   "cell_type": "code",
   "execution_count": 1,
   "metadata": {
    "scrolled": true
   },
   "outputs": [
    {
     "name": "stdout",
     "output_type": "stream",
     "text": [
      "(25723, 24)\n"
     ]
    },
    {
     "data": {
      "text/html": [
       "<div>\n",
       "<style scoped>\n",
       "    .dataframe tbody tr th:only-of-type {\n",
       "        vertical-align: middle;\n",
       "    }\n",
       "\n",
       "    .dataframe tbody tr th {\n",
       "        vertical-align: top;\n",
       "    }\n",
       "\n",
       "    .dataframe thead th {\n",
       "        text-align: right;\n",
       "    }\n",
       "</style>\n",
       "<table border=\"1\" class=\"dataframe\">\n",
       "  <thead>\n",
       "    <tr style=\"text-align: right;\">\n",
       "      <th></th>\n",
       "      <th>Case Number</th>\n",
       "      <th>Date</th>\n",
       "      <th>Year</th>\n",
       "      <th>Type</th>\n",
       "      <th>Country</th>\n",
       "      <th>Area</th>\n",
       "      <th>Location</th>\n",
       "      <th>Activity</th>\n",
       "      <th>Name</th>\n",
       "      <th>Sex</th>\n",
       "      <th>...</th>\n",
       "      <th>Species</th>\n",
       "      <th>Investigator or Source</th>\n",
       "      <th>pdf</th>\n",
       "      <th>href formula</th>\n",
       "      <th>href</th>\n",
       "      <th>Case Number.1</th>\n",
       "      <th>Case Number.2</th>\n",
       "      <th>original order</th>\n",
       "      <th>Unnamed: 22</th>\n",
       "      <th>Unnamed: 23</th>\n",
       "    </tr>\n",
       "  </thead>\n",
       "  <tbody>\n",
       "    <tr>\n",
       "      <th>0</th>\n",
       "      <td>2018.06.25</td>\n",
       "      <td>25-Jun-2018</td>\n",
       "      <td>2018.0</td>\n",
       "      <td>Boating</td>\n",
       "      <td>USA</td>\n",
       "      <td>California</td>\n",
       "      <td>Oceanside, San Diego County</td>\n",
       "      <td>Paddling</td>\n",
       "      <td>Julie Wolfe</td>\n",
       "      <td>F</td>\n",
       "      <td>...</td>\n",
       "      <td>White shark</td>\n",
       "      <td>R. Collier, GSAF</td>\n",
       "      <td>2018.06.25-Wolfe.pdf</td>\n",
       "      <td>http://sharkattackfile.net/spreadsheets/pdf_di...</td>\n",
       "      <td>http://sharkattackfile.net/spreadsheets/pdf_di...</td>\n",
       "      <td>2018.06.25</td>\n",
       "      <td>2018.06.25</td>\n",
       "      <td>6303.0</td>\n",
       "      <td>NaN</td>\n",
       "      <td>NaN</td>\n",
       "    </tr>\n",
       "    <tr>\n",
       "      <th>1</th>\n",
       "      <td>2018.06.18</td>\n",
       "      <td>18-Jun-2018</td>\n",
       "      <td>2018.0</td>\n",
       "      <td>Unprovoked</td>\n",
       "      <td>USA</td>\n",
       "      <td>Georgia</td>\n",
       "      <td>St. Simon Island, Glynn County</td>\n",
       "      <td>Standing</td>\n",
       "      <td>Adyson McNeely</td>\n",
       "      <td>F</td>\n",
       "      <td>...</td>\n",
       "      <td>NaN</td>\n",
       "      <td>K.McMurray, TrackingSharks.com</td>\n",
       "      <td>2018.06.18-McNeely.pdf</td>\n",
       "      <td>http://sharkattackfile.net/spreadsheets/pdf_di...</td>\n",
       "      <td>http://sharkattackfile.net/spreadsheets/pdf_di...</td>\n",
       "      <td>2018.06.18</td>\n",
       "      <td>2018.06.18</td>\n",
       "      <td>6302.0</td>\n",
       "      <td>NaN</td>\n",
       "      <td>NaN</td>\n",
       "    </tr>\n",
       "    <tr>\n",
       "      <th>2</th>\n",
       "      <td>2018.06.09</td>\n",
       "      <td>09-Jun-2018</td>\n",
       "      <td>2018.0</td>\n",
       "      <td>Invalid</td>\n",
       "      <td>USA</td>\n",
       "      <td>Hawaii</td>\n",
       "      <td>Habush, Oahu</td>\n",
       "      <td>Surfing</td>\n",
       "      <td>John Denges</td>\n",
       "      <td>M</td>\n",
       "      <td>...</td>\n",
       "      <td>NaN</td>\n",
       "      <td>K.McMurray, TrackingSharks.com</td>\n",
       "      <td>2018.06.09-Denges.pdf</td>\n",
       "      <td>http://sharkattackfile.net/spreadsheets/pdf_di...</td>\n",
       "      <td>http://sharkattackfile.net/spreadsheets/pdf_di...</td>\n",
       "      <td>2018.06.09</td>\n",
       "      <td>2018.06.09</td>\n",
       "      <td>6301.0</td>\n",
       "      <td>NaN</td>\n",
       "      <td>NaN</td>\n",
       "    </tr>\n",
       "    <tr>\n",
       "      <th>3</th>\n",
       "      <td>2018.06.08</td>\n",
       "      <td>08-Jun-2018</td>\n",
       "      <td>2018.0</td>\n",
       "      <td>Unprovoked</td>\n",
       "      <td>AUSTRALIA</td>\n",
       "      <td>New South Wales</td>\n",
       "      <td>Arrawarra Headland</td>\n",
       "      <td>Surfing</td>\n",
       "      <td>male</td>\n",
       "      <td>M</td>\n",
       "      <td>...</td>\n",
       "      <td>2 m shark</td>\n",
       "      <td>B. Myatt, GSAF</td>\n",
       "      <td>2018.06.08-Arrawarra.pdf</td>\n",
       "      <td>http://sharkattackfile.net/spreadsheets/pdf_di...</td>\n",
       "      <td>http://sharkattackfile.net/spreadsheets/pdf_di...</td>\n",
       "      <td>2018.06.08</td>\n",
       "      <td>2018.06.08</td>\n",
       "      <td>6300.0</td>\n",
       "      <td>NaN</td>\n",
       "      <td>NaN</td>\n",
       "    </tr>\n",
       "    <tr>\n",
       "      <th>4</th>\n",
       "      <td>2018.06.04</td>\n",
       "      <td>04-Jun-2018</td>\n",
       "      <td>2018.0</td>\n",
       "      <td>Provoked</td>\n",
       "      <td>MEXICO</td>\n",
       "      <td>Colima</td>\n",
       "      <td>La Ticla</td>\n",
       "      <td>Free diving</td>\n",
       "      <td>Gustavo Ramos</td>\n",
       "      <td>M</td>\n",
       "      <td>...</td>\n",
       "      <td>Tiger shark, 3m</td>\n",
       "      <td>A .Kipper</td>\n",
       "      <td>2018.06.04-Ramos.pdf</td>\n",
       "      <td>http://sharkattackfile.net/spreadsheets/pdf_di...</td>\n",
       "      <td>http://sharkattackfile.net/spreadsheets/pdf_di...</td>\n",
       "      <td>2018.06.04</td>\n",
       "      <td>2018.06.04</td>\n",
       "      <td>6299.0</td>\n",
       "      <td>NaN</td>\n",
       "      <td>NaN</td>\n",
       "    </tr>\n",
       "  </tbody>\n",
       "</table>\n",
       "<p>5 rows × 24 columns</p>\n",
       "</div>"
      ],
      "text/plain": [
       "  Case Number         Date    Year        Type    Country             Area  \\\n",
       "0  2018.06.25  25-Jun-2018  2018.0     Boating        USA       California   \n",
       "1  2018.06.18  18-Jun-2018  2018.0  Unprovoked        USA          Georgia   \n",
       "2  2018.06.09  09-Jun-2018  2018.0     Invalid        USA           Hawaii   \n",
       "3  2018.06.08  08-Jun-2018  2018.0  Unprovoked  AUSTRALIA  New South Wales   \n",
       "4  2018.06.04  04-Jun-2018  2018.0    Provoked     MEXICO           Colima   \n",
       "\n",
       "                         Location     Activity             Name Sex   ...  \\\n",
       "0     Oceanside, San Diego County     Paddling      Julie Wolfe    F  ...   \n",
       "1  St. Simon Island, Glynn County     Standing  Adyson McNeely     F  ...   \n",
       "2                    Habush, Oahu      Surfing      John Denges    M  ...   \n",
       "3              Arrawarra Headland      Surfing             male    M  ...   \n",
       "4                        La Ticla  Free diving   Gustavo Ramos     M  ...   \n",
       "\n",
       "          Species           Investigator or Source                       pdf  \\\n",
       "0      White shark                R. Collier, GSAF      2018.06.25-Wolfe.pdf   \n",
       "1              NaN  K.McMurray, TrackingSharks.com    2018.06.18-McNeely.pdf   \n",
       "2              NaN  K.McMurray, TrackingSharks.com     2018.06.09-Denges.pdf   \n",
       "3        2 m shark                  B. Myatt, GSAF  2018.06.08-Arrawarra.pdf   \n",
       "4  Tiger shark, 3m                       A .Kipper      2018.06.04-Ramos.pdf   \n",
       "\n",
       "                                        href formula  \\\n",
       "0  http://sharkattackfile.net/spreadsheets/pdf_di...   \n",
       "1  http://sharkattackfile.net/spreadsheets/pdf_di...   \n",
       "2  http://sharkattackfile.net/spreadsheets/pdf_di...   \n",
       "3  http://sharkattackfile.net/spreadsheets/pdf_di...   \n",
       "4  http://sharkattackfile.net/spreadsheets/pdf_di...   \n",
       "\n",
       "                                                href Case Number.1  \\\n",
       "0  http://sharkattackfile.net/spreadsheets/pdf_di...    2018.06.25   \n",
       "1  http://sharkattackfile.net/spreadsheets/pdf_di...    2018.06.18   \n",
       "2  http://sharkattackfile.net/spreadsheets/pdf_di...    2018.06.09   \n",
       "3  http://sharkattackfile.net/spreadsheets/pdf_di...    2018.06.08   \n",
       "4  http://sharkattackfile.net/spreadsheets/pdf_di...    2018.06.04   \n",
       "\n",
       "  Case Number.2 original order Unnamed: 22 Unnamed: 23  \n",
       "0    2018.06.25         6303.0         NaN         NaN  \n",
       "1    2018.06.18         6302.0         NaN         NaN  \n",
       "2    2018.06.09         6301.0         NaN         NaN  \n",
       "3    2018.06.08         6300.0         NaN         NaN  \n",
       "4    2018.06.04         6299.0         NaN         NaN  \n",
       "\n",
       "[5 rows x 24 columns]"
      ]
     },
     "execution_count": 1,
     "metadata": {},
     "output_type": "execute_result"
    }
   ],
   "source": [
    "# Importing libraries\n",
    "from importlib import reload  \n",
    "import pandas as pd\n",
    "import numpy as np\n",
    "import matplotlib.pyplot as plt\n",
    "import re\n",
    "import datetime as dt\n",
    "import sys\n",
    "sys.path.append(\"src/\")  # path contains python_file.py\n",
    "import clean_functions as cf\n",
    "\n",
    "# Importing data \n",
    "# * because an error we should use encoding='latin-1'\n",
    "\n",
    "df = pd.read_csv('../../../data/attacks.csv', encoding='latin-1')\n",
    "print(df.shape)\n",
    "df.head()"
   ]
  },
  {
   "cell_type": "markdown",
   "metadata": {},
   "source": [
    "\n",
    "### Reflexions and raw data description\n",
    "- The last two columns are probably empty\n",
    "- The information of the following columns is problably not relevant at all:\n",
    "    - original order\n",
    "    - href\n",
    "    - href formula\n",
    "    - pdf\n",
    "    - Investigator or Source\n",
    "    - Name\n",
    "    - Case Number \t\n",
    "- Meanwhile the others columns looks important:\n",
    "    - Date\n",
    "    - Year\n",
    "    - Type\n",
    "    - Country\n",
    "    - Area \t\n",
    "    - Location\n",
    "    - Activity \t\n",
    "    - Sex (of the shark)\n",
    "    - Species\n",
    "    \n",
    "#### --> First hipothesis\n",
    "    The sharks attack depend on the season\n",
    "    \n",
    "    "
   ]
  },
  {
   "cell_type": "markdown",
   "metadata": {},
   "source": [
    "\n",
    "# Cleaning\n",
    "\n",
    "##### Data description"
   ]
  },
  {
   "cell_type": "markdown",
   "metadata": {},
   "source": [
    "- Analizing the columns: original order, href, href formula ,pdf, Investigator or Source, Name"
   ]
  },
  {
   "cell_type": "code",
   "execution_count": 2,
   "metadata": {},
   "outputs": [
    {
     "data": {
      "text/plain": [
       "count    6309.000000\n",
       "mean     3155.999683\n",
       "std      1821.396206\n",
       "min         2.000000\n",
       "25%      1579.000000\n",
       "50%      3156.000000\n",
       "75%      4733.000000\n",
       "max      6310.000000\n",
       "Name: original order, dtype: float64"
      ]
     },
     "execution_count": 2,
     "metadata": {},
     "output_type": "execute_result"
    }
   ],
   "source": [
    "df[\"original order\"].describe()"
   ]
  },
  {
   "cell_type": "markdown",
   "metadata": {},
   "source": [
    "#### Reflexion\n",
    "It seems to be an index to register the attacks, so the information of consecutive if it was a time trend will be in the dates"
   ]
  },
  {
   "cell_type": "code",
   "execution_count": 3,
   "metadata": {},
   "outputs": [
    {
     "data": {
      "text/plain": [
       "http://sharkattackfile.net/spreadsheets/pdf_directory/w014.01.25-Grant.pdf             4\n",
       "http://sharkattackfile.net/spreadsheets/pdf_directory/2014.10.02.b-Vandenberg.pdf      3\n",
       "http://sharkattackfile.net/spreadsheets/pdf_directory/2014.10.14-Bandy.pdf             2\n",
       "http://sharkattackfile.net/spreadsheets/pdf_directory/1923.00.00.a-NJ fisherman.pdf    2\n",
       "http://sharkattackfile.net/spreadsheets/pdf_directory/1916.12.08.a-b-German.pdf        2\n",
       "                                                                                      ..\n",
       "http://sharkattackfile.net/spreadsheets/pdf_directory/2017.07.02-Comoros.pdf           1\n",
       "http://sharkattackfile.net/spreadsheets/pdf_directory/1963.12.20.b-Coetzee.pdf         1\n",
       "http://sharkattackfile.net/spreadsheets/pdf_directory/2015.07.02-Matt-Lee.pdf          1\n",
       "http://sharkattackfile.net/spreadsheets/pdf_directory/2002.12.01-Gadelha.pdf           1\n",
       "http://sharkattackfile.net/spreadsheets/pdf_directory/2015.09.24-Kenney.pdf            1\n",
       "Name: href, Length: 6285, dtype: int64"
      ]
     },
     "execution_count": 3,
     "metadata": {},
     "output_type": "execute_result"
    }
   ],
   "source": [
    "df[\"href\"].value_counts()"
   ]
  },
  {
   "cell_type": "markdown",
   "metadata": {},
   "source": [
    "#### Reflexion\n",
    "It seems as a link to the pdf register of the attack, there are 4 register in one file, perhaps it could be repeated registers with the same information... let us check"
   ]
  },
  {
   "cell_type": "code",
   "execution_count": 4,
   "metadata": {},
   "outputs": [
    {
     "data": {
      "text/plain": [
       "0        False\n",
       "1        False\n",
       "2        False\n",
       "3        False\n",
       "4        False\n",
       "         ...  \n",
       "25718     True\n",
       "25719     True\n",
       "25720     True\n",
       "25721     True\n",
       "25722    False\n",
       "Length: 25723, dtype: bool"
      ]
     },
     "execution_count": 4,
     "metadata": {},
     "output_type": "execute_result"
    }
   ],
   "source": [
    "df.duplicated()"
   ]
  },
  {
   "cell_type": "code",
   "execution_count": 5,
   "metadata": {},
   "outputs": [
    {
     "data": {
      "text/plain": [
       "http://sharkattackfile.net/spreadsheets/pdf_directory/1898.00.00.R-Syria.pdf                 2\n",
       "http://sharkattackfile.net/spreadsheets/pdf_directory/1923.00.00.a-NJ fisherman.pdf          2\n",
       "http://sharkattackfile.net/spreadsheets/pdf_directory/1916.07.12.a-b-Stillwell-Fisher.pdf    2\n",
       "http://sharkattackfile.net/spreadsheets/pdf_directory/1916.12.08.a-b-German.pdf              2\n",
       "http://sharkattackfile.net/spreadsheets/pdf_directory/1929.03.04.a-b.Roads-Aldridge.pdf      2\n",
       "                                                                                            ..\n",
       "http://sharkattackfile.net/spreadsheets/pdf_directory/1890.00.00.a-ZuluMale.pdf              1\n",
       "http://sharkattackfile.net/spreadsheets/pdf_directory/1907.10.12-alleghany-sailor.pdf        1\n",
       "http://sharkattackfile.net/spreadsheets/pdf_directory/1929.11.21-Yugoago.pdf                 1\n",
       "http://sharkattackfile.net/spreadsheets/pdf_directory/1554.00.00-Rondelet.pdf                1\n",
       "http://sharkattackfile.net/spreadsheets/pdf_directory/2015.09.24-Kenney.pdf                  1\n",
       "Name: href formula, Length: 6290, dtype: int64"
      ]
     },
     "execution_count": 5,
     "metadata": {},
     "output_type": "execute_result"
    }
   ],
   "source": [
    "df[\"href formula\"].value_counts()"
   ]
  },
  {
   "cell_type": "code",
   "execution_count": 6,
   "metadata": {},
   "outputs": [
    {
     "data": {
      "text/plain": [
       "1916.07.12.a-b-Stillwell-Fisher.pdf    2\n",
       "1935.06.05.R-SolomonIslands.pdf        2\n",
       "1906.09.27.R.a&b-Munich-Swede.pdf      2\n",
       "1923.00.00.a-NJ fisherman.pdf          2\n",
       "1929.03.04.a-b.Roads-Aldridge.pdf      2\n",
       "                                      ..\n",
       "1961.04.08-DaraDisaster.pdf            1\n",
       "1842.00.00.a-1st-SydneyHarbour.pdf     1\n",
       "2008.08.27-Zgura.pdf                   1\n",
       "1912.02.22-Swanson.pdf                 1\n",
       "1946.01.17-Vaughan.pdf                 1\n",
       "Name: pdf, Length: 6291, dtype: int64"
      ]
     },
     "execution_count": 6,
     "metadata": {},
     "output_type": "execute_result"
    }
   ],
   "source": [
    "df[\"pdf\"].value_counts()"
   ]
  },
  {
   "cell_type": "code",
   "execution_count": 7,
   "metadata": {},
   "outputs": [
    {
     "data": {
      "text/plain": [
       "C. Moore, GSAF                                                                                                           105\n",
       "C. Creswell, GSAF                                                                                                         92\n",
       "S. Petersohn, GSAF                                                                                                        82\n",
       "R. Collier                                                                                                                55\n",
       "R. Collier, GSAF                                                                                                          48\n",
       "                                                                                                                        ... \n",
       "Sun Star, 11/08/2008                                                                                                       1\n",
       "Western Argus, 9/26/1922                                                                                                   1\n",
       "G.P. Whitley (1952), p.192, cites A. Marshall                                                                              1\n",
       "Evening Sun (Baltimore), 7/31/1939; E.R.F. Johnson                                                                         1\n",
       "B. v.Schalkwyk, P. Thevenau, R. Rathgeber, M.D., M. Levine, GSAF; R. Dunning, G. Charter, B. Davis, R.B. Wilson, NSB       1\n",
       "Name: Investigator or Source, Length: 4969, dtype: int64"
      ]
     },
     "execution_count": 7,
     "metadata": {},
     "output_type": "execute_result"
    }
   ],
   "source": [
    "df[\"Investigator or Source\"].value_counts()"
   ]
  },
  {
   "cell_type": "code",
   "execution_count": 8,
   "metadata": {},
   "outputs": [
    {
     "data": {
      "text/plain": [
       "male                                      550\n",
       "female                                     97\n",
       "boy                                        23\n",
       "2 males                                    16\n",
       "boat                                       14\n",
       "                                         ... \n",
       "Captain Angus Brown, his son & brother      1\n",
       "Richard Kirby                               1\n",
       "Bjørn Jensen                                1\n",
       "Lyle Davis                                  1\n",
       "L.B.                                        1\n",
       "Name: Name, Length: 5230, dtype: int64"
      ]
     },
     "execution_count": 8,
     "metadata": {},
     "output_type": "execute_result"
    }
   ],
   "source": [
    "df[\"Name\"].value_counts()"
   ]
  },
  {
   "cell_type": "code",
   "execution_count": 9,
   "metadata": {},
   "outputs": [],
   "source": [
    "# Drop the columns Name,Investigator or Source,pdf, href formula, href,original order \n",
    "columns_drop=['Name','Investigator or Source','pdf', 'href formula', 'href','original order']\n",
    "df=df.drop(columns_drop,axis=1)"
   ]
  },
  {
   "cell_type": "markdown",
   "metadata": {},
   "source": [
    "\n",
    "- The last two columns are probably empty"
   ]
  },
  {
   "cell_type": "code",
   "execution_count": 10,
   "metadata": {},
   "outputs": [
    {
     "name": "stdout",
     "output_type": "stream",
     "text": [
      "stopped here    1\n",
      "Name: Unnamed: 22, dtype: int64\n",
      "change filename    1\n",
      "Teramo             1\n",
      "Name: Unnamed: 23, dtype: int64\n"
     ]
    }
   ],
   "source": [
    "print(df[\"Unnamed: 22\"].value_counts())\n",
    "print(df[\"Unnamed: 23\"].value_counts())"
   ]
  },
  {
   "cell_type": "markdown",
   "metadata": {},
   "source": [
    "- Yes, there are eampty. Dropping the last two columns"
   ]
  },
  {
   "cell_type": "code",
   "execution_count": 11,
   "metadata": {},
   "outputs": [],
   "source": [
    "df=df.drop([\"Unnamed: 22\", \"Unnamed: 23\"],axis=1)"
   ]
  },
  {
   "cell_type": "code",
   "execution_count": 12,
   "metadata": {},
   "outputs": [
    {
     "name": "stdout",
     "output_type": "stream",
     "text": [
      "Index(['Case Number', 'Date', 'Year', 'Type', 'Country', 'Area', 'Location',\n",
      "       'Activity', 'Sex ', 'Age', 'Injury', 'Fatal (Y/N)', 'Time', 'Species ',\n",
      "       'Case Number.1', 'Case Number.2'],\n",
      "      dtype='object')\n"
     ]
    },
    {
     "data": {
      "text/html": [
       "<div>\n",
       "<style scoped>\n",
       "    .dataframe tbody tr th:only-of-type {\n",
       "        vertical-align: middle;\n",
       "    }\n",
       "\n",
       "    .dataframe tbody tr th {\n",
       "        vertical-align: top;\n",
       "    }\n",
       "\n",
       "    .dataframe thead th {\n",
       "        text-align: right;\n",
       "    }\n",
       "</style>\n",
       "<table border=\"1\" class=\"dataframe\">\n",
       "  <thead>\n",
       "    <tr style=\"text-align: right;\">\n",
       "      <th></th>\n",
       "      <th>Age</th>\n",
       "      <th>Injury</th>\n",
       "      <th>Fatal (Y/N)</th>\n",
       "      <th>Time</th>\n",
       "    </tr>\n",
       "  </thead>\n",
       "  <tbody>\n",
       "    <tr>\n",
       "      <th>0</th>\n",
       "      <td>57</td>\n",
       "      <td>No injury to occupant, outrigger canoe and pad...</td>\n",
       "      <td>N</td>\n",
       "      <td>18h00</td>\n",
       "    </tr>\n",
       "    <tr>\n",
       "      <th>1</th>\n",
       "      <td>11</td>\n",
       "      <td>Minor injury to left thigh</td>\n",
       "      <td>N</td>\n",
       "      <td>14h00  -15h00</td>\n",
       "    </tr>\n",
       "    <tr>\n",
       "      <th>2</th>\n",
       "      <td>48</td>\n",
       "      <td>Injury to left lower leg from surfboard skeg</td>\n",
       "      <td>N</td>\n",
       "      <td>07h45</td>\n",
       "    </tr>\n",
       "    <tr>\n",
       "      <th>3</th>\n",
       "      <td>NaN</td>\n",
       "      <td>Minor injury to lower leg</td>\n",
       "      <td>N</td>\n",
       "      <td>NaN</td>\n",
       "    </tr>\n",
       "    <tr>\n",
       "      <th>4</th>\n",
       "      <td>NaN</td>\n",
       "      <td>Lacerations to leg &amp; hand shark PROVOKED INCIDENT</td>\n",
       "      <td>N</td>\n",
       "      <td>NaN</td>\n",
       "    </tr>\n",
       "  </tbody>\n",
       "</table>\n",
       "</div>"
      ],
      "text/plain": [
       "   Age                                             Injury Fatal (Y/N)  \\\n",
       "0   57  No injury to occupant, outrigger canoe and pad...           N   \n",
       "1   11                         Minor injury to left thigh           N   \n",
       "2   48       Injury to left lower leg from surfboard skeg           N   \n",
       "3  NaN                          Minor injury to lower leg           N   \n",
       "4  NaN  Lacerations to leg & hand shark PROVOKED INCIDENT           N   \n",
       "\n",
       "            Time  \n",
       "0          18h00  \n",
       "1  14h00  -15h00  \n",
       "2          07h45  \n",
       "3            NaN  \n",
       "4            NaN  "
      ]
     },
     "execution_count": 12,
     "metadata": {},
     "output_type": "execute_result"
    }
   ],
   "source": [
    "# Some columns were missing from the first head\n",
    "print(df.columns)\n",
    "# the columns that were missing.\n",
    "df[['Age', 'Injury', 'Fatal (Y/N)', 'Time']].head()"
   ]
  },
  {
   "cell_type": "code",
   "execution_count": 13,
   "metadata": {},
   "outputs": [
    {
     "data": {
      "text/plain": [
       "Case Number      17021\n",
       "Date             19421\n",
       "Year             19423\n",
       "Type             19425\n",
       "Country          19471\n",
       "Area             19876\n",
       "Location         19961\n",
       "Activity         19965\n",
       "Sex              19986\n",
       "Age              22252\n",
       "Injury           19449\n",
       "Fatal (Y/N)      19960\n",
       "Time             22775\n",
       "Species          22259\n",
       "Case Number.1    19421\n",
       "Case Number.2    19421\n",
       "dtype: int64"
      ]
     },
     "execution_count": 13,
     "metadata": {},
     "output_type": "execute_result"
    }
   ],
   "source": [
    "# Total number of null value by columns\n",
    "df.isna().sum()"
   ]
  },
  {
   "cell_type": "code",
   "execution_count": 14,
   "metadata": {},
   "outputs": [],
   "source": [
    "# Count the null values by row (it takes timeeee)\n",
    "\n",
    "Null_col=df.isna()\n",
    "null_total=[]\n",
    "for i in range(Null_col.shape[0]):\n",
    "    null_total.append(Null_col.loc[i].sum()) "
   ]
  },
  {
   "cell_type": "code",
   "execution_count": 15,
   "metadata": {},
   "outputs": [
    {
     "data": {
      "image/png": "[encoded data removed]",
      "text/plain": [
       "<matplotlib.figure.Figure at 0x7ff14b9d9978>"
      ]
     },
     "metadata": {
      "needs_background": "light"
     },
     "output_type": "display_data"
    }
   ],
   "source": [
    "# Display the quantities by number of null in row.\n",
    "plt.hist(null_total)\n",
    "hist_null=np.histogram(null_total, bins=16)"
   ]
  },
  {
   "cell_type": "code",
   "execution_count": 16,
   "metadata": {},
   "outputs": [
    {
     "data": {
      "text/plain": [
       "(array([ 1425,  1518,  1217,  1221,   570,   269,    64,    17,     1,\n",
       "            0,     0,     0,     0,     0,     0, 19421]),\n",
       " array([ 0.,  1.,  2.,  3.,  4.,  5.,  6.,  7.,  8.,  9., 10., 11., 12.,\n",
       "        13., 14., 15., 16.]))"
      ]
     },
     "execution_count": 16,
     "metadata": {},
     "output_type": "execute_result"
    }
   ],
   "source": [
    "# there are 19414 rows with null values in all 22 cells, and 7 rows with 21.\n",
    "\n",
    "hist_null"
   ]
  },
  {
   "cell_type": "code",
   "execution_count": 17,
   "metadata": {},
   "outputs": [
    {
     "name": "stdout",
     "output_type": "stream",
     "text": [
      "the new size of df: (8703, 16)  after drop 17020\n",
      "the new size of df: (6302, 16)  after drop 2401\n"
     ]
    }
   ],
   "source": [
    "# Drop the rows with 22 and 21 null values in all cells\n",
    "\n",
    "df_null=pd.DataFrame(null_total,index=range(len(null_total)), columns=['n_nulls'])\n",
    "index_null16 = np.where(df_null.n_nulls==16)\n",
    "index_null16_l = list(index_null16[0])\n",
    "df=df.drop(index_null16_l)\n",
    "print(f'the new size of df: {df.shape}  after drop {len(index_null16_l)}')\n",
    "index_null15 = np.where(df_null.n_nulls==15)\n",
    "index_null15_l = list(index_null15[0])\n",
    "df=df.drop(index_null15_l)\n",
    "print(f'the new size of df: {df.shape}  after drop {len(index_null15_l)}')\n"
   ]
  },
  {
   "cell_type": "code",
   "execution_count": 18,
   "metadata": {},
   "outputs": [],
   "source": [
    "# Count the null values by row (it takes timeeee)\n",
    "Null_col_1=df.isna()\n",
    "null_total_1=[]\n",
    "for i in range(Null_col_1.shape[0]):\n",
    "    null_total_1.append(Null_col_1.loc[i].sum()) \n",
    "    "
   ]
  },
  {
   "cell_type": "code",
   "execution_count": 19,
   "metadata": {},
   "outputs": [
    {
     "data": {
      "text/plain": [
       "(array([1425, 1518, 1217, 1221,  570,  269,   64,   18]),\n",
       " array([0, 1, 2, 3, 4, 5, 6, 7, 8]))"
      ]
     },
     "execution_count": 19,
     "metadata": {},
     "output_type": "execute_result"
    },
    {
     "data": {
      "image/png": "[encoded data removed]",
      "text/plain": [
       "<matplotlib.figure.Figure at 0x7ff14b5bd208>"
      ]
     },
     "metadata": {
      "needs_background": "light"
     },
     "output_type": "display_data"
    }
   ],
   "source": [
    "# new histogram (Nulls by Rows)\n",
    "plt.hist(null_total_1)\n",
    "hist_null_1=np.histogram(null_total_1, bins=range(max(null_total_1)+1))\n",
    "hist_null_1"
   ]
  },
  {
   "cell_type": "code",
   "execution_count": 20,
   "metadata": {},
   "outputs": [
    {
     "data": {
      "text/plain": [
       "Case Number         1\n",
       "Date                0\n",
       "Year                2\n",
       "Type                4\n",
       "Country            50\n",
       "Area              455\n",
       "Location          540\n",
       "Activity          544\n",
       "Sex               565\n",
       "Age              2831\n",
       "Injury             28\n",
       "Fatal (Y/N)       539\n",
       "Time             3354\n",
       "Species          2838\n",
       "Case Number.1       0\n",
       "Case Number.2       0\n",
       "dtype: int64"
      ]
     },
     "execution_count": 20,
     "metadata": {},
     "output_type": "execute_result"
    }
   ],
   "source": [
    "# Nulls by colums\n",
    "df.isna().sum()"
   ]
  },
  {
   "cell_type": "code",
   "execution_count": 21,
   "metadata": {},
   "outputs": [
    {
     "name": "stdout",
     "output_type": "stream",
     "text": [
      "--->  Las dimesiones de df son:(6302, 16)\n"
     ]
    }
   ],
   "source": [
    "df.drop_duplicates()\n",
    "print(f'--->  Las dimesiones de df son:{df.shape}')"
   ]
  },
  {
   "cell_type": "code",
   "execution_count": 22,
   "metadata": {},
   "outputs": [
    {
     "name": "stdout",
     "output_type": "stream",
     "text": [
      "Row without nulls:1425\n",
      "--->  Size of df after drop nulls:(1425, 16)\n"
     ]
    }
   ],
   "source": [
    "# Row without nulls \n",
    "print(f'Row without nulls:{sum(df.isnull().sum(axis=1)==0)}')\n",
    "row_with_any_null=list(df[df.isnull().sum(axis=1)>0].index)\n",
    "df=df.drop(row_with_any_null)\n",
    "\n",
    "print(f'--->  Size of df after drop nulls:{df.shape}')"
   ]
  },
  {
   "cell_type": "markdown",
   "metadata": {},
   "source": [
    "# Cleanning column \"TIME\""
   ]
  },
  {
   "cell_type": "code",
   "execution_count": 23,
   "metadata": {},
   "outputs": [
    {
     "name": "stdout",
     "output_type": "stream",
     "text": [
      "--->  Las dimesiones de df_Time son:(1425, 1)\n"
     ]
    },
    {
     "data": {
      "text/plain": [
       "11h00                     64\n",
       "Afternoon                 61\n",
       "16h00                     50\n",
       "15h00                     49\n",
       "12h00                     49\n",
       "                          ..\n",
       "11h06                      1\n",
       "Shortly before 12h00       1\n",
       "2 hours after Opperman     1\n",
       "\"After dark\"               1\n",
       "8:04 pm                    1\n",
       "Name: Time, Length: 240, dtype: int64"
      ]
     },
     "execution_count": 23,
     "metadata": {},
     "output_type": "execute_result"
    }
   ],
   "source": [
    "df_Time=pd.DataFrame(df.Time)\n",
    "print(f'--->  Las dimesiones de df_Time son:{df_Time.shape}')\n",
    "df.Time.value_counts()"
   ]
  },
  {
   "cell_type": "markdown",
   "metadata": {},
   "source": [
    "### Numbers filtering"
   ]
  },
  {
   "cell_type": "code",
   "execution_count": 24,
   "metadata": {},
   "outputs": [],
   "source": [
    "# Filter values in Time column and apply a filter to find the hours\n",
    "\n",
    "#Search by hours's definition\n",
    "hay_digitos=re.compile(r'\\d{2}'+re.escape('h'))\n",
    "\n",
    "df_Time=df_Time.applymap(lambda x :hay_digitos.findall(str(x)))"
   ]
  },
  {
   "cell_type": "code",
   "execution_count": 25,
   "metadata": {},
   "outputs": [],
   "source": [
    "# Calculate an hour for some cells that have many values   \n",
    "df_Time['time_num'] = df_Time[['Time']].apply(lambda row: cf.promedio_hora(row['Time']), axis=1)"
   ]
  },
  {
   "cell_type": "code",
   "execution_count": 26,
   "metadata": {},
   "outputs": [
    {
     "name": "stdout",
     "output_type": "stream",
     "text": [
      "--->  The dimensions of df_Time are:(1425, 2)\n",
      "--->  Of which are numeric:(1226, 2)\n"
     ]
    },
    {
     "data": {
      "text/html": [
       "<div>\n",
       "<style scoped>\n",
       "    .dataframe tbody tr th:only-of-type {\n",
       "        vertical-align: middle;\n",
       "    }\n",
       "\n",
       "    .dataframe tbody tr th {\n",
       "        vertical-align: top;\n",
       "    }\n",
       "\n",
       "    .dataframe thead th {\n",
       "        text-align: right;\n",
       "    }\n",
       "</style>\n",
       "<table border=\"1\" class=\"dataframe\">\n",
       "  <thead>\n",
       "    <tr style=\"text-align: right;\">\n",
       "      <th></th>\n",
       "      <th>Time</th>\n",
       "      <th>time_num</th>\n",
       "    </tr>\n",
       "  </thead>\n",
       "  <tbody>\n",
       "    <tr>\n",
       "      <th>0</th>\n",
       "      <td>[18h]</td>\n",
       "      <td>18</td>\n",
       "    </tr>\n",
       "    <tr>\n",
       "      <th>8</th>\n",
       "      <td>[17h]</td>\n",
       "      <td>17</td>\n",
       "    </tr>\n",
       "    <tr>\n",
       "      <th>13</th>\n",
       "      <td>[08h]</td>\n",
       "      <td>8</td>\n",
       "    </tr>\n",
       "    <tr>\n",
       "      <th>18</th>\n",
       "      <td>[10h]</td>\n",
       "      <td>10</td>\n",
       "    </tr>\n",
       "    <tr>\n",
       "      <th>21</th>\n",
       "      <td>[09h]</td>\n",
       "      <td>9</td>\n",
       "    </tr>\n",
       "    <tr>\n",
       "      <th>...</th>\n",
       "      <td>...</td>\n",
       "      <td>...</td>\n",
       "    </tr>\n",
       "    <tr>\n",
       "      <th>5311</th>\n",
       "      <td>[17h]</td>\n",
       "      <td>17</td>\n",
       "    </tr>\n",
       "    <tr>\n",
       "      <th>5375</th>\n",
       "      <td>[15h]</td>\n",
       "      <td>15</td>\n",
       "    </tr>\n",
       "    <tr>\n",
       "      <th>5484</th>\n",
       "      <td>[12h]</td>\n",
       "      <td>12</td>\n",
       "    </tr>\n",
       "    <tr>\n",
       "      <th>5545</th>\n",
       "      <td>[14h]</td>\n",
       "      <td>14</td>\n",
       "    </tr>\n",
       "    <tr>\n",
       "      <th>5922</th>\n",
       "      <td>[10h]</td>\n",
       "      <td>10</td>\n",
       "    </tr>\n",
       "  </tbody>\n",
       "</table>\n",
       "<p>1226 rows × 2 columns</p>\n",
       "</div>"
      ],
      "text/plain": [
       "       Time  time_num\n",
       "0     [18h]        18\n",
       "8     [17h]        17\n",
       "13    [08h]         8\n",
       "18    [10h]        10\n",
       "21    [09h]         9\n",
       "...     ...       ...\n",
       "5311  [17h]        17\n",
       "5375  [15h]        15\n",
       "5484  [12h]        12\n",
       "5545  [14h]        14\n",
       "5922  [10h]        10\n",
       "\n",
       "[1226 rows x 2 columns]"
      ]
     },
     "execution_count": 26,
     "metadata": {},
     "output_type": "execute_result"
    }
   ],
   "source": [
    "# Filter by numeric values\n",
    "df_Time_num=df_Time[df_Time['time_num']>=0]\n",
    "\n",
    "# Index with number in Time\n",
    "indices_con_num=list(df_Time_num.index)\n",
    "\n",
    "# First group of hours with numeric value\n",
    "print(f'--->  The dimensions of df_Time are:{df_Time.shape}')\n",
    "print(f'--->  Of which are numeric:{df_Time_num.shape}')\n",
    "\n",
    "df_Time_num"
   ]
  },
  {
   "cell_type": "markdown",
   "metadata": {},
   "source": [
    "### Text filtering"
   ]
  },
  {
   "cell_type": "code",
   "execution_count": 27,
   "metadata": {},
   "outputs": [
    {
     "name": "stdout",
     "output_type": "stream",
     "text": [
      "--->  Las dimesiones de df_Time son:(1425,)\n",
      "--->  De estos se tratarán como texto:(199, 3)\n",
      "--->  Y se han eliminado 0 nulos.\n"
     ]
    },
    {
     "data": {
      "text/plain": [
       "Afternoon                 61\n",
       "Morning                   48\n",
       "Late afternoon            17\n",
       "Night                     14\n",
       "Evening                    7\n",
       "Early afternoon            5\n",
       "Midday                     5\n",
       "Dusk                       5\n",
       "A.M.                       4\n",
       "                           3\n",
       "Early morning              3\n",
       "--                         3\n",
       "j                          2\n",
       "                           2\n",
       "P.M.                       2\n",
       "\"Evening\"                  1\n",
       "Sunset                     1\n",
       "After noon                 1\n",
       "Daytime                    1\n",
       "Morning                    1\n",
       "Just before sundown        1\n",
       "X                          1\n",
       " hours after Opperman      1\n",
       "\"After dark\"               1\n",
       "Early Morning              1\n",
       "                           1\n",
       "After dusk                 1\n",
       "Shortly after midnight     1\n",
       "Late morning               1\n",
       "Mid-morning                1\n",
       "\"Night\"                    1\n",
       ": pm                       1\n",
       "h                          1\n",
       "Name: time_str, dtype: int64"
      ]
     },
     "execution_count": 27,
     "metadata": {},
     "output_type": "execute_result"
    }
   ],
   "source": [
    "#Filtra los valores de la columna Time y aplica un filtro para encontrar los valores de la columna\n",
    "df_Time=pd.DataFrame(df.Time)\n",
    "\n",
    "# Filtra los que no son dígitos\n",
    "no_hay_digitos=re.compile(r'[\\D]')\n",
    "df_Time['time_str_fil']=df_Time.applymap(lambda x :no_hay_digitos.findall(str(x)))\n",
    "\n",
    "# Convierte la lista de cada celda creada en cadena de carácteres\n",
    "df_Time['time_str']=df_Time.time_str_fil.apply(lambda x : ''.join(x))\n",
    "\n",
    "# Borra las celdas que tienen ya una hora asignada\n",
    "df_Time=df_Time.drop(indices_con_num)\n",
    "\n",
    "# Borra las celdas no nan\n",
    "indices_con_null=list(df_Time.time_str[df_Time.time_str=='nan'].index)\n",
    "df_Time=df_Time.drop(indices_con_null)\n",
    "\n",
    "print(f'--->  Las dimesiones de df_Time son:{df.Time.shape}')\n",
    "print(f'--->  De estos se tratarán como texto:{df_Time.shape}')\n",
    "print(f'--->  Y se han eliminado {len(indices_con_null)} nulos.')\n",
    "\n",
    "df_Time.time_str.value_counts()"
   ]
  },
  {
   "cell_type": "code",
   "execution_count": 28,
   "metadata": {},
   "outputs": [
    {
     "name": "stdout",
     "output_type": "stream",
     "text": [
      "--->  Dimensiones de df_Time:(199, 4) de estos son 55 morning\n"
     ]
    }
   ],
   "source": [
    "# Categorizando los textos --> Morning\n",
    "\n",
    "contiene_morning=re.compile(r'(orning)')\n",
    "df_Time['morning']=df_Time[['time_str']].apply(lambda x: contiene_morning.findall(str(x)),axis=1)\n",
    "\n",
    "index_morning=list(df_Time.morning[df_Time.morning.apply(len)>0].index)\n",
    "df_Time.morning.loc[index_morning]='Morning'\n",
    "df_Time.Time.loc[index_morning]='Morning'\n",
    "\n",
    "print(f'--->  Dimensiones de df_Time:{df_Time.shape} de estos son {len(index_morning)} morning')"
   ]
  },
  {
   "cell_type": "code",
   "execution_count": 29,
   "metadata": {},
   "outputs": [
    {
     "name": "stdout",
     "output_type": "stream",
     "text": [
      "--->  Dimensiones de df_Time:(199, 5) de estos son 85 afternoon\n"
     ]
    }
   ],
   "source": [
    "# Categorizando los textos --> Afternoon\n",
    "\n",
    "contiene_aftern=re.compile(r'(fterno)|(Sunset)|(After noon)')\n",
    "df_Time['after']=df_Time[['time_str']].apply(lambda x: contiene_aftern.findall(str(x)),axis=1)\n",
    "\n",
    "index_aftern=list(df_Time.after[df_Time.after.apply(len)>0].index)\n",
    "df_Time.after.loc[index_aftern]='Afternoon'\n",
    "df_Time.Time.loc[index_aftern]='Afternoon'\n",
    "\n",
    "print(f'--->  Dimensiones de df_Time:{df_Time.shape} de estos son {len(index_aftern)} afternoon')"
   ]
  },
  {
   "cell_type": "code",
   "execution_count": 30,
   "metadata": {},
   "outputs": [
    {
     "name": "stdout",
     "output_type": "stream",
     "text": [
      "--->  Dimensiones de df_Time:(199, 6) de estos son 30 night\n"
     ]
    }
   ],
   "source": [
    "# Categorizando los textos --> night evening Dusk ..etc\n",
    "\n",
    "contiene_night=re.compile(r'(igh)|(vening)|(usk)|(Before daybreak)|(Dark)|(Just before dawn)')\n",
    "df_Time['night']=df_Time[['time_str']].apply(lambda x: contiene_night.findall(str(x)),axis=1)\n",
    "\n",
    "index_night=list(df_Time.night[df_Time.night.apply(len)>0].index)\n",
    "df_Time.night.loc[index_night]='Night'\n",
    "df_Time.Time.loc[index_night]='Night'\n",
    "\n",
    "print(f'--->  Dimensiones de df_Time:{df_Time.shape} de estos son {len(index_night)} night')"
   ]
  },
  {
   "cell_type": "code",
   "execution_count": 31,
   "metadata": {},
   "outputs": [
    {
     "name": "stdout",
     "output_type": "stream",
     "text": [
      "--->  Dimensiones de df_Time:(199, 7) de estos son 29 resto\n"
     ]
    },
    {
     "data": {
      "text/plain": [
       "Midday                    5\n",
       "A.M.                      4\n",
       "--                        3\n",
       "                          2\n",
       "P.M.                      2\n",
       "15j45                     1\n",
       "Daytime                   1\n",
       "\"After dark\"              1\n",
       "1600                      1\n",
       "Just before sundown       1\n",
       "                          1\n",
       "9h00                      1\n",
       "06j00                     1\n",
       "0830                      1\n",
       "2 hours after Opperman    1\n",
       "1500                      1\n",
       "8:04 pm                   1\n",
       "X                         1\n",
       "Name: resto, dtype: int64"
      ]
     },
     "execution_count": 31,
     "metadata": {},
     "output_type": "execute_result"
    }
   ],
   "source": [
    "# Categorizando los textos --> los restos /// completarian el resto de df_Time como texto\n",
    "temp=df_Time[df_Time.morning==df_Time.after]\n",
    "df_Time['resto']=temp[temp.night.apply(len)==0].Time\n",
    "print(f'--->  Dimensiones de df_Time:{df_Time.shape} de estos son {df_Time.shape[0]-df_Time.resto.isnull().sum()} resto')\n",
    "df_Time.resto.value_counts()"
   ]
  },
  {
   "cell_type": "code",
   "execution_count": 32,
   "metadata": {},
   "outputs": [],
   "source": [
    "# extre algunas hora \n",
    "import clean_functions as cf\n",
    "Hora_con_ceros=re.compile(r'\\d{2}00\\s|\\d:\\d:w{2}|\\d+h')\n",
    "df_Time['resto_hora']=df_Time[['resto']].apply(lambda x: Hora_con_ceros.findall(str(x)),axis=1)\n",
    "df_Time['resto_hora']=df_Time['resto_hora'].apply(cf.limpia_comillas_corchetes)"
   ]
  },
  {
   "cell_type": "code",
   "execution_count": 33,
   "metadata": {},
   "outputs": [],
   "source": [
    "# convierte las cadenas a horas\n",
    "df_Time['resto_hora']=df_Time['resto_hora'].apply(cf.f_hora_con_ceros)"
   ]
  },
  {
   "cell_type": "code",
   "execution_count": 34,
   "metadata": {},
   "outputs": [
    {
     "name": "stderr",
     "output_type": "stream",
     "text": [
      "/usr/local/lib/python3.6/dist-packages/pandas/core/indexing.py:671: SettingWithCopyWarning: \n",
      "A value is trying to be set on a copy of a slice from a DataFrame\n",
      "\n",
      "See the caveats in the documentation: https://pandas.pydata.org/pandas-docs/stable/user_guide/indexing.html#returning-a-view-versus-a-copy\n",
      "  self._setitem_with_indexer(indexer, value)\n"
     ]
    }
   ],
   "source": [
    "# asignando horas según valor\n",
    "df_Time.resto_hora.loc[list(df_Time[df_Time.Time=='0830'].index)]=8\n",
    "df_Time.resto_hora.loc[list(df_Time[df_Time.Time=='Midday'].index)]=12\n",
    "df_Time.resto_hora.loc[list(df_Time[df_Time.Time=='Midday.'].index)]=12\n",
    "df_Time.resto_hora.loc[list(df_Time[df_Time.Time=='Just before noon'].index)]=12\n",
    "df_Time.resto_hora.loc[list(df_Time[df_Time.Time=='Dawn'].index)]=6\n",
    "df_Time.resto_hora.loc[list(df_Time[df_Time.Time=='Daybreak'].index)]=6\n",
    "df_Time.resto_hora.loc[list(df_Time[df_Time.Time=='Lunchtime'].index)]=12\n",
    "df_Time.resto_hora.loc[list(df_Time[df_Time.Time=='Noon'].index)]=12\n",
    "df_Time.resto_hora.loc[list(df_Time[df_Time.Time=='2 hrs before sunset'].index)]=17\n",
    "df_Time.resto_hora.loc[list(df_Time[df_Time.Time=='Just before sundown'].index)]=19\n",
    "df_Time.resto_hora.loc[list(df_Time[df_Time.Time=='\"After lunch\"'].index)]=14\n",
    "df_Time.resto_hora.loc[list(df_Time[df_Time.Time=='\"After dark\"'].index)]=21\n",
    "df_Time.resto_hora.loc[list(df_Time[df_Time.Time=='06j00'].index)]=6\n",
    "df_Time.resto_hora.loc[list(df_Time[df_Time.Time=='15j45'].index)]=16\n"
   ]
  },
  {
   "cell_type": "code",
   "execution_count": 35,
   "metadata": {},
   "outputs": [
    {
     "name": "stdout",
     "output_type": "stream",
     "text": [
      "Al final quedaron 16 nulos de los 583\n"
     ]
    },
    {
     "data": {
      "text/plain": [
       "Afternoon    85\n",
       "Morning      55\n",
       "Night        30\n",
       "12.0          5\n",
       "16.0          2\n",
       "21.0          1\n",
       "19.0          1\n",
       "9.0           1\n",
       "8.0           1\n",
       "6.0           1\n",
       "15.0          1\n",
       "Name: Time_def, dtype: int64"
      ]
     },
     "execution_count": 35,
     "metadata": {},
     "output_type": "execute_result"
    }
   ],
   "source": [
    "#crea definitivo\n",
    "df_Time['Time_def'] = None\n",
    "df_Time['Time_def'] = np.where(~df_Time.resto_hora.isnull(),df_Time.resto_hora,df_Time.Time_def)\n",
    "df_Time['Time_def'].loc[index_morning]='Morning'\n",
    "df_Time['Time_def'].loc[index_aftern]='Afternoon'\n",
    "df_Time['Time_def'].loc[index_night]='Night'\n",
    "print(f'Al final quedaron {df_Time.Time_def.isnull().sum()} nulos de los 583')\n",
    "df_Time['Time_def'].value_counts()\n"
   ]
  },
  {
   "cell_type": "markdown",
   "metadata": {},
   "source": [
    "### Update the main DataFrame"
   ]
  },
  {
   "cell_type": "code",
   "execution_count": 36,
   "metadata": {},
   "outputs": [],
   "source": [
    "# Actualizar la base definitiva\n",
    "df.Time.loc[list(df_Time['Time_def'].index)]=df_Time['Time_def']\n",
    "df.Time.loc[list(df_Time_num['time_num'].index)]=df_Time_num['time_num']"
   ]
  },
  {
   "cell_type": "code",
   "execution_count": 37,
   "metadata": {},
   "outputs": [],
   "source": [
    "# crea variable Momento del Día\n",
    "import clean_functions as cf \n",
    "df['moment_day']=None\n",
    "df.moment_day=df.Time.apply(cf.moment_day)"
   ]
  },
  {
   "cell_type": "markdown",
   "metadata": {},
   "source": [
    "# Cleaning columns -- \"Fatal (Y/N)\""
   ]
  },
  {
   "cell_type": "code",
   "execution_count": 38,
   "metadata": {
    "scrolled": true
   },
   "outputs": [
    {
     "name": "stdout",
     "output_type": "stream",
     "text": [
      "N       1189\n",
      "Y        232\n",
      " N         2\n",
      "2017       1\n",
      "M          1\n",
      "Name: Fatal (Y/N), dtype: int64\n",
      "numero total de filas --> (1425, 17)\n",
      "numero total de filas Null --> (0, 17)\n"
     ]
    }
   ],
   "source": [
    "# General data \n",
    "print(df['Fatal (Y/N)'].value_counts())\n",
    "print(f\"numero total de filas --> {df.shape}\")\n",
    "print(f\"numero total de filas Null --> { df[df['Fatal (Y/N)'].isnull()].shape }\")\n",
    "     \n",
    "      \n",
    "df['Fatal_b']=df['Fatal (Y/N)'].apply(lambda x :cf.fatal_clasification(x))"
   ]
  },
  {
   "cell_type": "code",
   "execution_count": 39,
   "metadata": {},
   "outputs": [
    {
     "data": {
      "text/plain": [
       "False    1191\n",
       "True      232\n",
       "Name: Fatal_b, dtype: int64"
      ]
     },
     "execution_count": 39,
     "metadata": {},
     "output_type": "execute_result"
    }
   ],
   "source": [
    "df['Fatal_b'].value_counts()"
   ]
  },
  {
   "cell_type": "markdown",
   "metadata": {},
   "source": [
    "# Cleaning columns -- \"Species\""
   ]
  },
  {
   "cell_type": "code",
   "execution_count": 40,
   "metadata": {},
   "outputs": [
    {
     "data": {
      "text/plain": [
       "Index(['Case Number', 'Date', 'Year', 'Type', 'Country', 'Area', 'Location',\n",
       "       'Activity', 'Sex ', 'Age', 'Injury', 'Fatal (Y/N)', 'Time',\n",
       "       'Case Number.1', 'Case Number.2', 'moment_day', 'Fatal_b', 'Species'],\n",
       "      dtype='object')"
      ]
     },
     "execution_count": 40,
     "metadata": {},
     "output_type": "execute_result"
    }
   ],
   "source": [
    "# let us begin with the name of column\n",
    "df['Species']=df['Species ']\n",
    "df=df.drop(['Species '], axis=1)\n",
    "df.columns"
   ]
  },
  {
   "cell_type": "code",
   "execution_count": 41,
   "metadata": {},
   "outputs": [
    {
     "data": {
      "text/plain": [
       "White shark                 74\n",
       "Tiger shark                 34\n",
       "4' shark                    34\n",
       "Bull shark                  31\n",
       "4' to 5' shark              19\n",
       "                            ..\n",
       "Tiger shark, >3 m [10']      1\n",
       "Unidentified shark           1\n",
       "White shark, 3 m [10'] k     1\n",
       "Bull shark, 400-lb           1\n",
       "3.3 m [10'9\"] shark          1\n",
       "Name: Species, Length: 814, dtype: int64"
      ]
     },
     "execution_count": 41,
     "metadata": {},
     "output_type": "execute_result"
    }
   ],
   "source": [
    "# Clasified by types\n",
    "df_sp=pd.DataFrame(df.Species)\n",
    "df_sp.Species.value_counts()"
   ]
  },
  {
   "cell_type": "code",
   "execution_count": 42,
   "metadata": {},
   "outputs": [
    {
     "data": {
      "text/plain": [
       "Unidentified           475\n",
       "White                  378\n",
       "Tiger                  146\n",
       "Bull                   125\n",
       "Blacktip                63\n",
       "Ragged Tooth            46\n",
       "Copper                  35\n",
       "Grey                    29\n",
       "Nurse                   19\n",
       "Mako                    18\n",
       "Hammerhead              15\n",
       "Wobbegong               13\n",
       "Spinner                 12\n",
       "Blue                    10\n",
       "Caribean reef           10\n",
       "Dusky                    9\n",
       "Lemmon                   8\n",
       "Broadnose sevengill      5\n",
       "Galapagos                4\n",
       "Dogfish                  3\n",
       "Ganges                   1\n",
       "Thresher                 1\n",
       "Name: Species_f, dtype: int64"
      ]
     },
     "execution_count": 42,
     "metadata": {},
     "output_type": "execute_result"
    }
   ],
   "source": [
    "# filter by specie\n",
    "reload(cf)\n",
    "df_sp['Species_f']=df_sp['Species'].apply(cf.shark_species)\n",
    "df_sp.Species_f.value_counts(dropna=False)"
   ]
  },
  {
   "cell_type": "code",
   "execution_count": 43,
   "metadata": {},
   "outputs": [
    {
     "name": "stdout",
     "output_type": "stream",
     "text": [
      " lo que no se pudo -> Tiger shark, 8 to 10 feet\n",
      " lo que no se pudo -> 3+ m shark\n",
      " lo que no se pudo -> 3- to 4-foot shark\n",
      " lo que no se pudo -> Tiger shark, 8 to 12 feet\n",
      " lo que no se pudo -> 7-gill shark?\n",
      " lo que no se pudo -> White shark, 10 '\n",
      " lo que no se pudo -> 18\" to 24\" shark\n",
      " lo que no se pudo -> Tawny nurse shark, 40cm\n",
      " lo que no se pudo -> White shark x 2\n",
      " lo que no se pudo -> 20 to 30kg shark\n",
      " lo que no se pudo -> 20 to 30kg shark\n",
      " lo que no se pudo -> 80 kg shark\n",
      " lo que no se pudo -> 2 small bull sharks\n",
      " lo que no se pudo -> Mako shark, 90kg\n",
      " lo que no se pudo -> 18\" to 24\" shark\n",
      " lo que no se pudo -> A 10-year-old 94-pound pregnant blacktip reef shark\n",
      " lo que no se pudo -> Lesser spotted dogfish, Scyliorhinus canicula, less than 80 cm in length\n",
      " lo que no se pudo -> Raggedtooth shark, 150-kg\n",
      " lo que no se pudo -> Bull shark, 132-kg [291-lb] \n",
      " lo que no se pudo -> 15 cm to 20 cm [6\" to 8\"] bite diameter just below left knee\n",
      " lo que no se pudo -> Mako shark, 400-lb \n",
      " lo que no se pudo -> Bull shark, 400-lb \n",
      " lo que no se pudo -> A large white shark was filmed by divers on a local wreck 2 days prior to the incident.\n",
      " lo que no se pudo -> A large white shark was filmed by divers on a local wreck 2 days prior to the incident.\n",
      " lo que no se pudo -> 3 bull sharks\n",
      " lo que no se pudo -> Tiger shark, 300-kg [662-lb] \n",
      " lo que no se pudo -> Tiger shark caught 6 days later with divers remains in its gut\n",
      " lo que no se pudo -> 150-lb shark\n",
      " lo que no se pudo -> Hammerhead shark?+O2356\n",
      " lo que no se pudo -> Bull shark, 8\n",
      " lo que no se pudo -> 7-gill shark\n",
      " lo que no se pudo -> Nurse shark, 106 cm, 28-lb, male \n",
      " lo que no se pudo -> A pack of 6 sharks\n",
      " lo que no se pudo -> A pack of 6 sharks\n",
      " lo que no se pudo -> 300- to 400-lb Zambesi shark\n",
      " lo que no se pudo -> Possibly a broadnose 7-gill shark\n",
      " lo que no se pudo -> 500-lb shark\n",
      " lo que no se pudo -> 60 cm  shark \n",
      " lo que no se pudo -> 36\"  shark\n",
      " lo que no se pudo -> 43\" shark\n",
      " lo que no se pudo -> Hammerhead shark, 500-llb \n",
      " lo que no se pudo -> A hammerhead shark, then 8 to 10 other sharks were said to be  involved\n",
      " lo que no se pudo -> 200-lb shark\n",
      " lo que no se pudo -> Mako shark, 100-kg [221-lb] \n",
      " lo que no se pudo -> 136-kg [300-lb] shark\n",
      " lo que no se pudo -> 1,100-lb shark\n",
      " lo que no se pudo -> White shark, 160-kg [353-lb], identity confirmed by tooth pattern\n",
      " lo que no se pudo -> 2 days later a 600-lb shark was caught 100 yards from the site\n"
     ]
    },
    {
     "data": {
      "text/plain": [
       "NaN     416\n",
       "1.80     86\n",
       "1.50     85\n",
       "1.20     83\n",
       "3.00     76\n",
       "       ... \n",
       "6.10      1\n",
       "4.80      1\n",
       "3.95      1\n",
       "4.40      1\n",
       "5.20      1\n",
       "Name: size, Length: 71, dtype: int64"
      ]
     },
     "execution_count": 43,
     "metadata": {},
     "output_type": "execute_result"
    }
   ],
   "source": [
    "# Apply filter of size\n",
    "reload(cf)\n",
    "df_sp['size']=df_sp['Species'].apply(cf.shark_size)\n",
    "df_sp['size'].value_counts(dropna=False)"
   ]
  },
  {
   "cell_type": "markdown",
   "metadata": {},
   "source": [
    "### Update the main DataFrame"
   ]
  },
  {
   "cell_type": "code",
   "execution_count": 44,
   "metadata": {},
   "outputs": [],
   "source": [
    "df.Species.loc[list(df_sp['Species_f'].index)]=df_sp['Species_f']"
   ]
  },
  {
   "cell_type": "code",
   "execution_count": 45,
   "metadata": {},
   "outputs": [],
   "source": [
    "df['shark_size']=df_sp['size']"
   ]
  },
  {
   "cell_type": "markdown",
   "metadata": {},
   "source": [
    "\n",
    "# Cleaning Date "
   ]
  },
  {
   "cell_type": "code",
   "execution_count": 56,
   "metadata": {},
   "outputs": [
    {
     "name": "stdout",
     "output_type": "stream",
     "text": [
      "este aun no esta 20-May2015\n",
      "este aun no esta 1999\n",
      "este aun no esta 04-Feb 1993\n",
      "este aun no esta 1986\n",
      "este aun no esta 1981\n",
      "este aun no esta 12-30-1980\n",
      "este aun no esta 05 May 1979\n",
      "este aun no esta Summer 1950\n",
      "este aun no esta Summer 1948\n",
      "este aun no esta 1945\n",
      "este aun no esta 22-Jul-144\n",
      "este aun no esta 1942\n",
      "este aun no esta 1932\n",
      "este aun no esta 24-May 1922\n",
      "este aun no esta 1960s\n",
      "este aun no esta 1960s\n",
      "este aun no esta 1941-1942\n",
      "Faltaron: 17 nulos  de 1425\n"
     ]
    }
   ],
   "source": [
    "reload(cf)\n",
    "df_date=pd.DataFrame(df['Date'])\n",
    "df_date['date_def']=df_date.Date.apply(cf.date_format)\n",
    "print(f'Faltaron: {df_date.date_def.isnull().sum()} nulos  de {df_date.date_def.size}')\n"
   ]
  },
  {
   "cell_type": "markdown",
   "metadata": {},
   "source": [
    "### update the dataframe "
   ]
  },
  {
   "cell_type": "code",
   "execution_count": 57,
   "metadata": {},
   "outputs": [],
   "source": [
    "df['date']=df_date.date_def"
   ]
  },
  {
   "cell_type": "code",
   "execution_count": null,
   "metadata": {},
   "outputs": [],
   "source": []
  }
 ],
 "metadata": {
  "kernelspec": {
   "display_name": "Python 3",
   "language": "python",
   "name": "python3"
  },
  "language_info": {
   "codemirror_mode": {
    "name": "ipython",
    "version": 3
   },
   "file_extension": ".py",
   "mimetype": "text/x-python",
   "name": "python",
   "nbconvert_exporter": "python",
   "pygments_lexer": "ipython3",
   "version": "3.6.9"
  }
 },
 "nbformat": 4,
 "nbformat_minor": 2
}
