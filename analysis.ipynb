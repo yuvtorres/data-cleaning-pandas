{
 "cells": [
  {
   "cell_type": "markdown",
   "metadata": {},
   "source": [
    "# Data Analisys\n",
    "------------------------------------------------------"
   ]
  },
  {
   "cell_type": "markdown",
   "metadata": {},
   "source": [
    "### Data import"
   ]
  },
  {
   "cell_type": "code",
   "execution_count": 1,
   "metadata": {},
   "outputs": [
    {
     "name": "stdout",
     "output_type": "stream",
     "text": [
      "(1425, 17)\n"
     ]
    },
    {
     "data": {
      "text/html": [
       "<div>\n",
       "<style scoped>\n",
       "    .dataframe tbody tr th:only-of-type {\n",
       "        vertical-align: middle;\n",
       "    }\n",
       "\n",
       "    .dataframe tbody tr th {\n",
       "        vertical-align: top;\n",
       "    }\n",
       "\n",
       "    .dataframe thead th {\n",
       "        text-align: right;\n",
       "    }\n",
       "</style>\n",
       "<table border=\"1\" class=\"dataframe\">\n",
       "  <thead>\n",
       "    <tr style=\"text-align: right;\">\n",
       "      <th></th>\n",
       "      <th>Unnamed: 0</th>\n",
       "      <th>Case Number</th>\n",
       "      <th>Type</th>\n",
       "      <th>Country</th>\n",
       "      <th>Area</th>\n",
       "      <th>Location</th>\n",
       "      <th>Activity</th>\n",
       "      <th>Sex</th>\n",
       "      <th>Age</th>\n",
       "      <th>Injury</th>\n",
       "      <th>Fatal (Y/N)</th>\n",
       "      <th>Time</th>\n",
       "      <th>moment_day</th>\n",
       "      <th>Fatal_b</th>\n",
       "      <th>Species</th>\n",
       "      <th>shark_size</th>\n",
       "      <th>date</th>\n",
       "    </tr>\n",
       "  </thead>\n",
       "  <tbody>\n",
       "    <tr>\n",
       "      <th>0</th>\n",
       "      <td>0</td>\n",
       "      <td>2018.06.25</td>\n",
       "      <td>Boating</td>\n",
       "      <td>USA</td>\n",
       "      <td>California</td>\n",
       "      <td>Oceanside, San Diego County</td>\n",
       "      <td>Paddling</td>\n",
       "      <td>F</td>\n",
       "      <td>57</td>\n",
       "      <td>No injury to occupant, outrigger canoe and pad...</td>\n",
       "      <td>N</td>\n",
       "      <td>18</td>\n",
       "      <td>Afternoon</td>\n",
       "      <td>False</td>\n",
       "      <td>White</td>\n",
       "      <td>NaN</td>\n",
       "      <td>2018-06-25</td>\n",
       "    </tr>\n",
       "    <tr>\n",
       "      <th>1</th>\n",
       "      <td>6</td>\n",
       "      <td>2018.06.03.a</td>\n",
       "      <td>Unprovoked</td>\n",
       "      <td>BRAZIL</td>\n",
       "      <td>Pernambuco</td>\n",
       "      <td>Piedade Beach, Recife</td>\n",
       "      <td>Swimming</td>\n",
       "      <td>M</td>\n",
       "      <td>18</td>\n",
       "      <td>FATAL</td>\n",
       "      <td>Y</td>\n",
       "      <td>Afternoon</td>\n",
       "      <td>Afternoon</td>\n",
       "      <td>True</td>\n",
       "      <td>Tiger</td>\n",
       "      <td>NaN</td>\n",
       "      <td>2018-06-03</td>\n",
       "    </tr>\n",
       "    <tr>\n",
       "      <th>2</th>\n",
       "      <td>8</td>\n",
       "      <td>2018.05.26.b</td>\n",
       "      <td>Unprovoked</td>\n",
       "      <td>USA</td>\n",
       "      <td>Florida</td>\n",
       "      <td>Cocoa Beach, Brevard  County</td>\n",
       "      <td>Walking</td>\n",
       "      <td>M</td>\n",
       "      <td>15</td>\n",
       "      <td>Lower left leg bitten</td>\n",
       "      <td>N</td>\n",
       "      <td>17</td>\n",
       "      <td>Afternoon</td>\n",
       "      <td>False</td>\n",
       "      <td>Bull</td>\n",
       "      <td>1.8</td>\n",
       "      <td>2018-05-26</td>\n",
       "    </tr>\n",
       "    <tr>\n",
       "      <th>3</th>\n",
       "      <td>10</td>\n",
       "      <td>2018.05.24</td>\n",
       "      <td>Provoked</td>\n",
       "      <td>AUSTRALIA</td>\n",
       "      <td>Queensland</td>\n",
       "      <td>Cairns Aquarium</td>\n",
       "      <td>Feeding sharks</td>\n",
       "      <td>M</td>\n",
       "      <td>32</td>\n",
       "      <td>Minor bite to hand by captive shark. PROVOKED ...</td>\n",
       "      <td>N</td>\n",
       "      <td>Morning</td>\n",
       "      <td>Morning</td>\n",
       "      <td>False</td>\n",
       "      <td>Grey</td>\n",
       "      <td>NaN</td>\n",
       "      <td>2018-05-24</td>\n",
       "    </tr>\n",
       "    <tr>\n",
       "      <th>4</th>\n",
       "      <td>13</td>\n",
       "      <td>2018.05.13.a</td>\n",
       "      <td>Invalid</td>\n",
       "      <td>ENGLAND</td>\n",
       "      <td>Cornwall</td>\n",
       "      <td>Off Land's End</td>\n",
       "      <td>Fishing</td>\n",
       "      <td>M</td>\n",
       "      <td>21</td>\n",
       "      <td>Injured by teeth of a dead porbeagle shark he ...</td>\n",
       "      <td>N</td>\n",
       "      <td>8</td>\n",
       "      <td>Morning</td>\n",
       "      <td>False</td>\n",
       "      <td>Unidentified</td>\n",
       "      <td>NaN</td>\n",
       "      <td>2018-05-13</td>\n",
       "    </tr>\n",
       "  </tbody>\n",
       "</table>\n",
       "</div>"
      ],
      "text/plain": [
       "   Unnamed: 0   Case Number        Type    Country        Area  \\\n",
       "0           0    2018.06.25     Boating        USA  California   \n",
       "1           6  2018.06.03.a  Unprovoked     BRAZIL  Pernambuco   \n",
       "2           8  2018.05.26.b  Unprovoked        USA     Florida   \n",
       "3          10    2018.05.24    Provoked  AUSTRALIA  Queensland   \n",
       "4          13  2018.05.13.a     Invalid    ENGLAND    Cornwall   \n",
       "\n",
       "                       Location        Activity Sex  Age  \\\n",
       "0   Oceanside, San Diego County        Paddling    F  57   \n",
       "1         Piedade Beach, Recife        Swimming    M  18   \n",
       "2  Cocoa Beach, Brevard  County         Walking    M  15   \n",
       "3               Cairns Aquarium  Feeding sharks    M  32   \n",
       "4                Off Land's End         Fishing    M  21   \n",
       "\n",
       "                                              Injury Fatal (Y/N)       Time  \\\n",
       "0  No injury to occupant, outrigger canoe and pad...           N         18   \n",
       "1                                              FATAL           Y  Afternoon   \n",
       "2                              Lower left leg bitten           N         17   \n",
       "3  Minor bite to hand by captive shark. PROVOKED ...           N    Morning   \n",
       "4  Injured by teeth of a dead porbeagle shark he ...           N          8   \n",
       "\n",
       "  moment_day Fatal_b       Species  shark_size        date  \n",
       "0  Afternoon   False         White         NaN  2018-06-25  \n",
       "1  Afternoon    True         Tiger         NaN  2018-06-03  \n",
       "2  Afternoon   False          Bull         1.8  2018-05-26  \n",
       "3    Morning   False          Grey         NaN  2018-05-24  \n",
       "4    Morning   False  Unidentified         NaN  2018-05-13  "
      ]
     },
     "execution_count": 1,
     "metadata": {},
     "output_type": "execute_result"
    }
   ],
   "source": [
    "# Importing libraries\n",
    "from importlib import reload  \n",
    "import pandas as pd\n",
    "import numpy as np\n",
    "import matplotlib.pyplot as plt\n",
    "import re\n",
    "import datetime as dt\n",
    "import sys\n",
    "sys.path.append(\"src/\")  # path contains python_file.py\n",
    "import analysis_functions as af\n",
    "\n",
    "# Importing data \n",
    "# * because an error we should use encoding='latin-1'\n",
    "\n",
    "df = pd.read_csv('output/data_processed.csv', encoding='latin-1')\n",
    "print(df.shape)\n",
    "df.head()"
   ]
  },
  {
   "cell_type": "markdown",
   "metadata": {},
   "source": [
    "### Index creation"
   ]
  },
  {
   "cell_type": "markdown",
   "metadata": {},
   "source": [
    "The index are useful to facilitate the data analysis"
   ]
  },
  {
   "cell_type": "code",
   "execution_count": 19,
   "metadata": {},
   "outputs": [],
   "source": [
    "df['date_dt'] = pd.to_datetime(df['date'])"
   ]
  },
  {
   "cell_type": "code",
   "execution_count": 24,
   "metadata": {},
   "outputs": [],
   "source": [
    "df['Year'] = df['date_dt'].dt.year\n",
    "df['Month'] = df['date_dt'].dt.month\n",
    "df=df.set_index(['Year', 'Month'])"
   ]
  },
  {
   "cell_type": "code",
   "execution_count": 28,
   "metadata": {},
   "outputs": [
    {
     "data": {
      "text/plain": [
       "USA             676\n",
       "AUSTRALIA       307\n",
       "SOUTH AFRICA    216\n",
       "BAHAMAS          25\n",
       "NEW ZEALAND      20\n",
       "               ... \n",
       "COLUMBIA          1\n",
       "SCOTLAND          1\n",
       "MALDIVES          1\n",
       "SEYCHELLES        1\n",
       "ARGENTINA         1\n",
       "Name: Country, Length: 63, dtype: int64"
      ]
     },
     "execution_count": 28,
     "metadata": {},
     "output_type": "execute_result"
    }
   ],
   "source": [
    "df.Country.value_counts()"
   ]
  }
 ],
 "metadata": {
  "kernelspec": {
   "display_name": "Python 3",
   "language": "python",
   "name": "python3"
  },
  "language_info": {
   "codemirror_mode": {
    "name": "ipython",
    "version": 3
   },
   "file_extension": ".py",
   "mimetype": "text/x-python",
   "name": "python",
   "nbconvert_exporter": "python",
   "pygments_lexer": "ipython3",
   "version": "3.6.9"
  }
 },
 "nbformat": 4,
 "nbformat_minor": 2
}
