{
 "cells": [
  {
   "cell_type": "markdown",
   "metadata": {},
   "source": [
    "# Data Analisys\n",
    "------------------------------------------------------"
   ]
  },
  {
   "cell_type": "markdown",
   "metadata": {},
   "source": [
    "### Data import"
   ]
  },
  {
   "cell_type": "code",
   "execution_count": 1,
   "metadata": {},
   "outputs": [
    {
     "name": "stdout",
     "output_type": "stream",
     "text": [
      "(1425, 17)\n"
     ]
    },
    {
     "data": {
      "text/html": [
       "<div>\n",
       "<style scoped>\n",
       "    .dataframe tbody tr th:only-of-type {\n",
       "        vertical-align: middle;\n",
       "    }\n",
       "\n",
       "    .dataframe tbody tr th {\n",
       "        vertical-align: top;\n",
       "    }\n",
       "\n",
       "    .dataframe thead th {\n",
       "        text-align: right;\n",
       "    }\n",
       "</style>\n",
       "<table border=\"1\" class=\"dataframe\">\n",
       "  <thead>\n",
       "    <tr style=\"text-align: right;\">\n",
       "      <th></th>\n",
       "      <th>Unnamed: 0</th>\n",
       "      <th>Case Number</th>\n",
       "      <th>Type</th>\n",
       "      <th>Country</th>\n",
       "      <th>Area</th>\n",
       "      <th>Location</th>\n",
       "      <th>Activity</th>\n",
       "      <th>Sex</th>\n",
       "      <th>Age</th>\n",
       "      <th>Injury</th>\n",
       "      <th>Fatal (Y/N)</th>\n",
       "      <th>Time</th>\n",
       "      <th>moment_day</th>\n",
       "      <th>Fatal_b</th>\n",
       "      <th>Species</th>\n",
       "      <th>shark_size</th>\n",
       "      <th>date</th>\n",
       "    </tr>\n",
       "  </thead>\n",
       "  <tbody>\n",
       "    <tr>\n",
       "      <th>0</th>\n",
       "      <td>0</td>\n",
       "      <td>2018.06.25</td>\n",
       "      <td>Boating</td>\n",
       "      <td>USA</td>\n",
       "      <td>California</td>\n",
       "      <td>Oceanside, San Diego County</td>\n",
       "      <td>Paddling</td>\n",
       "      <td>F</td>\n",
       "      <td>57</td>\n",
       "      <td>No injury to occupant, outrigger canoe and pad...</td>\n",
       "      <td>N</td>\n",
       "      <td>18</td>\n",
       "      <td>Afternoon</td>\n",
       "      <td>False</td>\n",
       "      <td>White</td>\n",
       "      <td>NaN</td>\n",
       "      <td>2018-06-25</td>\n",
       "    </tr>\n",
       "    <tr>\n",
       "      <th>1</th>\n",
       "      <td>6</td>\n",
       "      <td>2018.06.03.a</td>\n",
       "      <td>Unprovoked</td>\n",
       "      <td>BRAZIL</td>\n",
       "      <td>Pernambuco</td>\n",
       "      <td>Piedade Beach, Recife</td>\n",
       "      <td>Swimming</td>\n",
       "      <td>M</td>\n",
       "      <td>18</td>\n",
       "      <td>FATAL</td>\n",
       "      <td>Y</td>\n",
       "      <td>Afternoon</td>\n",
       "      <td>Afternoon</td>\n",
       "      <td>True</td>\n",
       "      <td>Tiger</td>\n",
       "      <td>NaN</td>\n",
       "      <td>2018-06-03</td>\n",
       "    </tr>\n",
       "    <tr>\n",
       "      <th>2</th>\n",
       "      <td>8</td>\n",
       "      <td>2018.05.26.b</td>\n",
       "      <td>Unprovoked</td>\n",
       "      <td>USA</td>\n",
       "      <td>Florida</td>\n",
       "      <td>Cocoa Beach, Brevard  County</td>\n",
       "      <td>Walking</td>\n",
       "      <td>M</td>\n",
       "      <td>15</td>\n",
       "      <td>Lower left leg bitten</td>\n",
       "      <td>N</td>\n",
       "      <td>17</td>\n",
       "      <td>Afternoon</td>\n",
       "      <td>False</td>\n",
       "      <td>Bull</td>\n",
       "      <td>1.8</td>\n",
       "      <td>2018-05-26</td>\n",
       "    </tr>\n",
       "    <tr>\n",
       "      <th>3</th>\n",
       "      <td>10</td>\n",
       "      <td>2018.05.24</td>\n",
       "      <td>Provoked</td>\n",
       "      <td>AUSTRALIA</td>\n",
       "      <td>Queensland</td>\n",
       "      <td>Cairns Aquarium</td>\n",
       "      <td>Feeding sharks</td>\n",
       "      <td>M</td>\n",
       "      <td>32</td>\n",
       "      <td>Minor bite to hand by captive shark. PROVOKED ...</td>\n",
       "      <td>N</td>\n",
       "      <td>Morning</td>\n",
       "      <td>Morning</td>\n",
       "      <td>False</td>\n",
       "      <td>Grey</td>\n",
       "      <td>NaN</td>\n",
       "      <td>2018-05-24</td>\n",
       "    </tr>\n",
       "    <tr>\n",
       "      <th>4</th>\n",
       "      <td>13</td>\n",
       "      <td>2018.05.13.a</td>\n",
       "      <td>Invalid</td>\n",
       "      <td>ENGLAND</td>\n",
       "      <td>Cornwall</td>\n",
       "      <td>Off Land's End</td>\n",
       "      <td>Fishing</td>\n",
       "      <td>M</td>\n",
       "      <td>21</td>\n",
       "      <td>Injured by teeth of a dead porbeagle shark he ...</td>\n",
       "      <td>N</td>\n",
       "      <td>8</td>\n",
       "      <td>Morning</td>\n",
       "      <td>False</td>\n",
       "      <td>Unidentified</td>\n",
       "      <td>NaN</td>\n",
       "      <td>2018-05-13</td>\n",
       "    </tr>\n",
       "  </tbody>\n",
       "</table>\n",
       "</div>"
      ],
      "text/plain": [
       "   Unnamed: 0   Case Number        Type    Country        Area  \\\n",
       "0           0    2018.06.25     Boating        USA  California   \n",
       "1           6  2018.06.03.a  Unprovoked     BRAZIL  Pernambuco   \n",
       "2           8  2018.05.26.b  Unprovoked        USA     Florida   \n",
       "3          10    2018.05.24    Provoked  AUSTRALIA  Queensland   \n",
       "4          13  2018.05.13.a     Invalid    ENGLAND    Cornwall   \n",
       "\n",
       "                       Location        Activity Sex  Age  \\\n",
       "0   Oceanside, San Diego County        Paddling    F  57   \n",
       "1         Piedade Beach, Recife        Swimming    M  18   \n",
       "2  Cocoa Beach, Brevard  County         Walking    M  15   \n",
       "3               Cairns Aquarium  Feeding sharks    M  32   \n",
       "4                Off Land's End         Fishing    M  21   \n",
       "\n",
       "                                              Injury Fatal (Y/N)       Time  \\\n",
       "0  No injury to occupant, outrigger canoe and pad...           N         18   \n",
       "1                                              FATAL           Y  Afternoon   \n",
       "2                              Lower left leg bitten           N         17   \n",
       "3  Minor bite to hand by captive shark. PROVOKED ...           N    Morning   \n",
       "4  Injured by teeth of a dead porbeagle shark he ...           N          8   \n",
       "\n",
       "  moment_day Fatal_b       Species  shark_size        date  \n",
       "0  Afternoon   False         White         NaN  2018-06-25  \n",
       "1  Afternoon    True         Tiger         NaN  2018-06-03  \n",
       "2  Afternoon   False          Bull         1.8  2018-05-26  \n",
       "3    Morning   False          Grey         NaN  2018-05-24  \n",
       "4    Morning   False  Unidentified         NaN  2018-05-13  "
      ]
     },
     "execution_count": 1,
     "metadata": {},
     "output_type": "execute_result"
    }
   ],
   "source": [
    "# Importing libraries\n",
    "from importlib import reload  \n",
    "import pandas as pd\n",
    "import numpy as np\n",
    "import matplotlib.pyplot as plt\n",
    "import re\n",
    "import datetime as dt\n",
    "import sys\n",
    "sys.path.append(\"src/\")  # path contains python_file.py\n",
    "import analysis_functions as af\n",
    "import statsmodels as st # If you have not installed --> pip install statsmodels --user\n",
    "\n",
    "# Importing data \n",
    "# * because an error we should use encoding='latin-1'\n",
    "\n",
    "df = pd.read_csv('output/data_processed.csv', encoding='latin-1')\n",
    "print(df.shape)\n",
    "df.head()"
   ]
  },
  {
   "cell_type": "markdown",
   "metadata": {},
   "source": [
    "### Trend analysis"
   ]
  },
  {
   "cell_type": "code",
   "execution_count": 2,
   "metadata": {},
   "outputs": [
    {
     "data": {
      "text/plain": [
       "0      2018-06-25\n",
       "1      2018-06-03\n",
       "2      2018-05-26\n",
       "3      2018-05-24\n",
       "4      2018-05-13\n",
       "          ...    \n",
       "1420   1880-11-25\n",
       "1421   1868-05-13\n",
       "1422          NaT\n",
       "1423          NaT\n",
       "1424          NaT\n",
       "Name: date_dt, Length: 1425, dtype: datetime64[ns]"
      ]
     },
     "execution_count": 2,
     "metadata": {},
     "output_type": "execute_result"
    }
   ],
   "source": [
    "df['date_dt'] = pd.to_datetime(df['date'])"
   ]
  },
  {
   "cell_type": "code",
   "execution_count": 5,
   "metadata": {},
   "outputs": [
    {
     "data": {
      "text/html": [
       "<div>\n",
       "<style scoped>\n",
       "    .dataframe tbody tr th:only-of-type {\n",
       "        vertical-align: middle;\n",
       "    }\n",
       "\n",
       "    .dataframe tbody tr th {\n",
       "        vertical-align: top;\n",
       "    }\n",
       "\n",
       "    .dataframe thead th {\n",
       "        text-align: right;\n",
       "    }\n",
       "</style>\n",
       "<table border=\"1\" class=\"dataframe\">\n",
       "  <thead>\n",
       "    <tr style=\"text-align: right;\">\n",
       "      <th></th>\n",
       "      <th>Unnamed: 0</th>\n",
       "      <th>Case Number</th>\n",
       "      <th>Type</th>\n",
       "      <th>Country</th>\n",
       "      <th>Area</th>\n",
       "      <th>Location</th>\n",
       "      <th>Activity</th>\n",
       "      <th>Sex</th>\n",
       "      <th>Age</th>\n",
       "      <th>Injury</th>\n",
       "      <th>Fatal (Y/N)</th>\n",
       "      <th>Time</th>\n",
       "      <th>moment_day</th>\n",
       "      <th>Fatal_b</th>\n",
       "      <th>Species</th>\n",
       "      <th>shark_size</th>\n",
       "      <th>date</th>\n",
       "      <th>date_dt</th>\n",
       "    </tr>\n",
       "  </thead>\n",
       "  <tbody>\n",
       "    <tr>\n",
       "      <th>1421</th>\n",
       "      <td>5922</td>\n",
       "      <td>1868.05.13</td>\n",
       "      <td>Unprovoked</td>\n",
       "      <td>INDIA</td>\n",
       "      <td>Hoogly River</td>\n",
       "      <td>Ghat</td>\n",
       "      <td>Standing</td>\n",
       "      <td>M</td>\n",
       "      <td>35</td>\n",
       "      <td>FATAL, upper left thigh, groin &amp; buttocks seve...</td>\n",
       "      <td>Y</td>\n",
       "      <td>10</td>\n",
       "      <td>Morning</td>\n",
       "      <td>True</td>\n",
       "      <td>Ganges</td>\n",
       "      <td>NaN</td>\n",
       "      <td>1868-05-13</td>\n",
       "      <td>1868-05-13</td>\n",
       "    </tr>\n",
       "    <tr>\n",
       "      <th>1420</th>\n",
       "      <td>5814</td>\n",
       "      <td>1880.11.25</td>\n",
       "      <td>Unprovoked</td>\n",
       "      <td>AUSTRALIA</td>\n",
       "      <td>Queensland</td>\n",
       "      <td>Petrie Bight, Brisbane River</td>\n",
       "      <td>Swimming</td>\n",
       "      <td>M</td>\n",
       "      <td>12</td>\n",
       "      <td>Feet bitten, surgically amputated FATAL</td>\n",
       "      <td>Y</td>\n",
       "      <td>Afternoon</td>\n",
       "      <td>Afternoon</td>\n",
       "      <td>True</td>\n",
       "      <td>Bull</td>\n",
       "      <td>NaN</td>\n",
       "      <td>1880-11-25</td>\n",
       "      <td>1880-11-25</td>\n",
       "    </tr>\n",
       "    <tr>\n",
       "      <th>1419</th>\n",
       "      <td>5684</td>\n",
       "      <td>1892.03.02</td>\n",
       "      <td>Provoked</td>\n",
       "      <td>AUSTRALIA</td>\n",
       "      <td>New South Wales</td>\n",
       "      <td>Lake Macquarie</td>\n",
       "      <td>Fishing</td>\n",
       "      <td>M</td>\n",
       "      <td>21</td>\n",
       "      <td>Lacerations to calf by netted shark PROVOKED I...</td>\n",
       "      <td>N</td>\n",
       "      <td>Night</td>\n",
       "      <td>Night</td>\n",
       "      <td>False</td>\n",
       "      <td>Unidentified</td>\n",
       "      <td>3.70</td>\n",
       "      <td>1892-03-02</td>\n",
       "      <td>1892-03-02</td>\n",
       "    </tr>\n",
       "    <tr>\n",
       "      <th>1418</th>\n",
       "      <td>5648</td>\n",
       "      <td>1894.11.28</td>\n",
       "      <td>Unprovoked</td>\n",
       "      <td>AUSTRALIA</td>\n",
       "      <td>New South Wales</td>\n",
       "      <td>Newcastle</td>\n",
       "      <td>Bathing</td>\n",
       "      <td>M</td>\n",
       "      <td>19</td>\n",
       "      <td>\"Lost his arm\"</td>\n",
       "      <td>N</td>\n",
       "      <td>Morning</td>\n",
       "      <td>Morning</td>\n",
       "      <td>False</td>\n",
       "      <td>Unidentified</td>\n",
       "      <td>3.40</td>\n",
       "      <td>1894-11-28</td>\n",
       "      <td>1894-11-28</td>\n",
       "    </tr>\n",
       "    <tr>\n",
       "      <th>1417</th>\n",
       "      <td>5545</td>\n",
       "      <td>1901.07.30</td>\n",
       "      <td>Unprovoked</td>\n",
       "      <td>SOUTH AFRICA</td>\n",
       "      <td>Western Cape Province</td>\n",
       "      <td>Windmill Beach</td>\n",
       "      <td>Swimming</td>\n",
       "      <td>M</td>\n",
       "      <td>29</td>\n",
       "      <td>Right leg bitten &amp; foot severed, right arm bit...</td>\n",
       "      <td>Y</td>\n",
       "      <td>14</td>\n",
       "      <td>Afternoon</td>\n",
       "      <td>True</td>\n",
       "      <td>White</td>\n",
       "      <td>NaN</td>\n",
       "      <td>1901-07-30</td>\n",
       "      <td>1901-07-30</td>\n",
       "    </tr>\n",
       "    <tr>\n",
       "      <th>...</th>\n",
       "      <td>...</td>\n",
       "      <td>...</td>\n",
       "      <td>...</td>\n",
       "      <td>...</td>\n",
       "      <td>...</td>\n",
       "      <td>...</td>\n",
       "      <td>...</td>\n",
       "      <td>...</td>\n",
       "      <td>...</td>\n",
       "      <td>...</td>\n",
       "      <td>...</td>\n",
       "      <td>...</td>\n",
       "      <td>...</td>\n",
       "      <td>...</td>\n",
       "      <td>...</td>\n",
       "      <td>...</td>\n",
       "      <td>...</td>\n",
       "      <td>...</td>\n",
       "    </tr>\n",
       "    <tr>\n",
       "      <th>1388</th>\n",
       "      <td>5000</td>\n",
       "      <td>1932.00.00</td>\n",
       "      <td>Unprovoked</td>\n",
       "      <td>SOUTH AFRICA</td>\n",
       "      <td>Eastern Cape Province</td>\n",
       "      <td>Kowie River Mouth, Port Alfred</td>\n",
       "      <td>Collecting fish by lamplight in gully</td>\n",
       "      <td>M</td>\n",
       "      <td>23</td>\n",
       "      <td>Right shin, calf and sole of foot lacerated</td>\n",
       "      <td>N</td>\n",
       "      <td>Night</td>\n",
       "      <td>Night</td>\n",
       "      <td>False</td>\n",
       "      <td>Ragged Tooth</td>\n",
       "      <td>1.35</td>\n",
       "      <td>NaN</td>\n",
       "      <td>NaT</td>\n",
       "    </tr>\n",
       "    <tr>\n",
       "      <th>1408</th>\n",
       "      <td>5224</td>\n",
       "      <td>1922.05.24</td>\n",
       "      <td>Unprovoked</td>\n",
       "      <td>JAMAICA</td>\n",
       "      <td>Westmoreland Parish</td>\n",
       "      <td>Savanna-la-Mar</td>\n",
       "      <td>Swimming</td>\n",
       "      <td>M</td>\n",
       "      <td>19</td>\n",
       "      <td>FATAL, arm severed, thigh severely bitten</td>\n",
       "      <td>Y</td>\n",
       "      <td>10</td>\n",
       "      <td>Morning</td>\n",
       "      <td>True</td>\n",
       "      <td>Unidentified</td>\n",
       "      <td>1.80</td>\n",
       "      <td>NaN</td>\n",
       "      <td>NaT</td>\n",
       "    </tr>\n",
       "    <tr>\n",
       "      <th>1422</th>\n",
       "      <td>6242</td>\n",
       "      <td>ND.0064</td>\n",
       "      <td>Unprovoked</td>\n",
       "      <td>IRAQ</td>\n",
       "      <td>Basrah</td>\n",
       "      <td>Shatt-al-Arab River</td>\n",
       "      <td>Swimming naked near a date palm where many dat...</td>\n",
       "      <td>M</td>\n",
       "      <td>6</td>\n",
       "      <td>Arm severed</td>\n",
       "      <td>N</td>\n",
       "      <td>Afternoon</td>\n",
       "      <td>Afternoon</td>\n",
       "      <td>False</td>\n",
       "      <td>Bull</td>\n",
       "      <td>NaN</td>\n",
       "      <td>NaN</td>\n",
       "      <td>NaT</td>\n",
       "    </tr>\n",
       "    <tr>\n",
       "      <th>1423</th>\n",
       "      <td>6243</td>\n",
       "      <td>ND.0063</td>\n",
       "      <td>Unprovoked</td>\n",
       "      <td>IRAQ</td>\n",
       "      <td>Basrah</td>\n",
       "      <td>Shatt-al-Arab River near Abu al Khasib</td>\n",
       "      <td>Swimming in section of river used for washing ...</td>\n",
       "      <td>M</td>\n",
       "      <td>16</td>\n",
       "      <td>Right leg lacerated &amp; surgically amputated</td>\n",
       "      <td>N</td>\n",
       "      <td>Afternoon</td>\n",
       "      <td>Afternoon</td>\n",
       "      <td>False</td>\n",
       "      <td>Bull</td>\n",
       "      <td>NaN</td>\n",
       "      <td>NaN</td>\n",
       "      <td>NaT</td>\n",
       "    </tr>\n",
       "    <tr>\n",
       "      <th>1424</th>\n",
       "      <td>6265</td>\n",
       "      <td>ND.0038</td>\n",
       "      <td>Unprovoked</td>\n",
       "      <td>IRAQ</td>\n",
       "      <td>Basrah</td>\n",
       "      <td>Shatt-el Arab River near a small boat stand</td>\n",
       "      <td>Swimming</td>\n",
       "      <td>M</td>\n",
       "      <td>13 or 14</td>\n",
       "      <td>FATAL, left leg bitten with severe blood loss</td>\n",
       "      <td>Y</td>\n",
       "      <td>Afternoon</td>\n",
       "      <td>Afternoon</td>\n",
       "      <td>True</td>\n",
       "      <td>Bull</td>\n",
       "      <td>NaN</td>\n",
       "      <td>NaN</td>\n",
       "      <td>NaT</td>\n",
       "    </tr>\n",
       "  </tbody>\n",
       "</table>\n",
       "<p>1425 rows × 18 columns</p>\n",
       "</div>"
      ],
      "text/plain": [
       "      Unnamed: 0 Case Number        Type       Country                   Area  \\\n",
       "1421        5922  1868.05.13  Unprovoked         INDIA           Hoogly River   \n",
       "1420        5814  1880.11.25  Unprovoked     AUSTRALIA             Queensland   \n",
       "1419        5684  1892.03.02    Provoked     AUSTRALIA        New South Wales   \n",
       "1418        5648  1894.11.28  Unprovoked     AUSTRALIA        New South Wales   \n",
       "1417        5545  1901.07.30  Unprovoked  SOUTH AFRICA  Western Cape Province   \n",
       "...          ...         ...         ...           ...                    ...   \n",
       "1388        5000  1932.00.00  Unprovoked  SOUTH AFRICA  Eastern Cape Province   \n",
       "1408        5224  1922.05.24  Unprovoked       JAMAICA    Westmoreland Parish   \n",
       "1422        6242     ND.0064  Unprovoked          IRAQ                 Basrah   \n",
       "1423        6243     ND.0063  Unprovoked          IRAQ                 Basrah   \n",
       "1424        6265     ND.0038  Unprovoked          IRAQ                 Basrah   \n",
       "\n",
       "                                         Location  \\\n",
       "1421                                         Ghat   \n",
       "1420                 Petrie Bight, Brisbane River   \n",
       "1419                               Lake Macquarie   \n",
       "1418                                   Newcastle    \n",
       "1417                               Windmill Beach   \n",
       "...                                           ...   \n",
       "1388               Kowie River Mouth, Port Alfred   \n",
       "1408                               Savanna-la-Mar   \n",
       "1422                         Shatt-al-Arab River    \n",
       "1423       Shatt-al-Arab River near Abu al Khasib   \n",
       "1424  Shatt-el Arab River near a small boat stand   \n",
       "\n",
       "                                               Activity Sex        Age  \\\n",
       "1421                                           Standing    M        35   \n",
       "1420                                           Swimming    M        12   \n",
       "1419                                            Fishing    M        21   \n",
       "1418                                            Bathing    M        19   \n",
       "1417                                           Swimming    M        29   \n",
       "...                                                 ...  ...       ...   \n",
       "1388              Collecting fish by lamplight in gully    M        23   \n",
       "1408                                           Swimming    M        19   \n",
       "1422  Swimming naked near a date palm where many dat...    M         6   \n",
       "1423  Swimming in section of river used for washing ...    M        16   \n",
       "1424                                           Swimming    M  13 or 14   \n",
       "\n",
       "                                                 Injury Fatal (Y/N)  \\\n",
       "1421  FATAL, upper left thigh, groin & buttocks seve...           Y   \n",
       "1420            Feet bitten, surgically amputated FATAL           Y   \n",
       "1419  Lacerations to calf by netted shark PROVOKED I...           N   \n",
       "1418                                     \"Lost his arm\"           N   \n",
       "1417  Right leg bitten & foot severed, right arm bit...           Y   \n",
       "...                                                 ...         ...   \n",
       "1388        Right shin, calf and sole of foot lacerated           N   \n",
       "1408        FATAL, arm severed, thigh severely bitten             Y   \n",
       "1422                                        Arm severed           N   \n",
       "1423         Right leg lacerated & surgically amputated           N   \n",
       "1424      FATAL, left leg bitten with severe blood loss           Y   \n",
       "\n",
       "           Time moment_day Fatal_b       Species  shark_size        date  \\\n",
       "1421         10    Morning    True        Ganges         NaN  1868-05-13   \n",
       "1420  Afternoon  Afternoon    True          Bull         NaN  1880-11-25   \n",
       "1419      Night      Night   False  Unidentified        3.70  1892-03-02   \n",
       "1418    Morning    Morning   False  Unidentified        3.40  1894-11-28   \n",
       "1417         14  Afternoon    True         White         NaN  1901-07-30   \n",
       "...         ...        ...     ...           ...         ...         ...   \n",
       "1388      Night      Night   False  Ragged Tooth        1.35         NaN   \n",
       "1408         10    Morning    True  Unidentified        1.80         NaN   \n",
       "1422  Afternoon  Afternoon   False          Bull         NaN         NaN   \n",
       "1423  Afternoon  Afternoon   False          Bull         NaN         NaN   \n",
       "1424  Afternoon  Afternoon    True          Bull         NaN         NaN   \n",
       "\n",
       "        date_dt  \n",
       "1421 1868-05-13  \n",
       "1420 1880-11-25  \n",
       "1419 1892-03-02  \n",
       "1418 1894-11-28  \n",
       "1417 1901-07-30  \n",
       "...         ...  \n",
       "1388        NaT  \n",
       "1408        NaT  \n",
       "1422        NaT  \n",
       "1423        NaT  \n",
       "1424        NaT  \n",
       "\n",
       "[1425 rows x 18 columns]"
      ]
     },
     "execution_count": 5,
     "metadata": {},
     "output_type": "execute_result"
    }
   ],
   "source": [
    "df=df.sort_values(by=['date_dt'])"
   ]
  },
  {
   "cell_type": "code",
   "execution_count": 13,
   "metadata": {},
   "outputs": [],
   "source": [
    "df['year'], df['month'] = df['date_dt'].dt.year, df['date_dt'].dt.month\n",
    "df=df.set_index(['year', 'month'])"
   ]
  },
  {
   "cell_type": "code",
   "execution_count": 42,
   "metadata": {},
   "outputs": [
    {
     "name": "stdout",
     "output_type": "stream",
     "text": [
      "---> Evolution of the data\n"
     ]
    },
    {
     "data": {
      "image/png": "[encoded data removed]",
      "text/plain": [
       "<matplotlib.figure.Figure at 0x7f13662a3d30>"
      ]
     },
     "metadata": {
      "needs_background": "light"
     },
     "output_type": "display_data"
    }
   ],
   "source": [
    "var=df.Type.groupby(['year']).count()\n",
    "plt.bar(var.index,var.values)\n",
    "print(f'---> Evolution of the data')"
   ]
  },
  {
   "cell_type": "code",
   "execution_count": 49,
   "metadata": {},
   "outputs": [
    {
     "name": "stdout",
     "output_type": "stream",
     "text": [
      "---> Evolution of the data\n"
     ]
    },
    {
     "data": {
      "image/png": "[encoded data removed]",
      "text/plain": [
       "<matplotlib.figure.Figure at 0x7f136608c320>"
      ]
     },
     "metadata": {
      "needs_background": "light"
     },
     "output_type": "display_data"
    }
   ],
   "source": [
    "var=df.Country[df.Country=='USA'].groupby(['year']).count()\n",
    "plt.bar(var.index,var.values)\n",
    "print(f'---> Evolution of the data - USA Cases')"
   ]
  },
  {
   "cell_type": "code",
   "execution_count": 51,
   "metadata": {},
   "outputs": [
    {
     "data": {
      "text/plain": [
       "USA              676\n",
       "AUSTRALIA        307\n",
       "SOUTH AFRICA     216\n",
       "BAHAMAS           25\n",
       "NEW ZEALAND       20\n",
       "                ... \n",
       "THAILAND           1\n",
       "SCOTLAND           1\n",
       "ISRAEL             1\n",
       "PACIFIC OCEAN      1\n",
       "MICRONESIA         1\n",
       "Name: Country, Length: 63, dtype: int64"
      ]
     },
     "execution_count": 51,
     "metadata": {},
     "output_type": "execute_result"
    }
   ],
   "source": [
    "var=df.Country[df.Country=='AUSTRALIA'].groupby(['year']).count()\n",
    "plt.bar(var.index,var.values)\n",
    "print(f'---> Evolution of the data - Australia Cases')"
   ]
  },
  {
   "cell_type": "code",
   "execution_count": 53,
   "metadata": {},
   "outputs": [
    {
     "name": "stdout",
     "output_type": "stream",
     "text": [
      "---> Evolution of the data - SOUTH AFRICA Cases\n"
     ]
    },
    {
     "data": {
      "image/png": "[encoded data removed]",
      "text/plain": [
       "<matplotlib.figure.Figure at 0x7f1365ee9470>"
      ]
     },
     "metadata": {
      "needs_background": "light"
     },
     "output_type": "display_data"
    }
   ],
   "source": [
    "var=df.Country[df.Country=='SOUTH AFRICA'].groupby(['year']).count()\n",
    "plt.bar(var.index,var.values)\n",
    "print(f'---> Evolution of the data - SOUTH AFRICA Cases')"
   ]
  },
  {
   "cell_type": "code",
   "execution_count": 54,
   "metadata": {},
   "outputs": [
    {
     "name": "stdout",
     "output_type": "stream",
     "text": [
      "---> Season data - USA Cases\n"
     ]
    },
    {
     "data": {
      "image/png": "[encoded data removed]",
      "text/plain": [
       "<matplotlib.figure.Figure at 0x7f1366048be0>"
      ]
     },
     "metadata": {
      "needs_background": "light"
     },
     "output_type": "display_data"
    }
   ],
   "source": [
    "var=df.Country[df.Country=='USA'].groupby(['month']).count()\n",
    "plt.bar(var.index,var.values)\n",
    "print(f'---> Season data - USA Cases')"
   ]
  },
  {
   "cell_type": "code",
   "execution_count": 55,
   "metadata": {},
   "outputs": [
    {
     "name": "stdout",
     "output_type": "stream",
     "text": [
      "---> Season data - AUSTRALIA Cases\n"
     ]
    },
    {
     "data": {
      "image/png": "[encoded data removed]",
      "text/plain": [
       "<matplotlib.figure.Figure at 0x7f1365cdb828>"
      ]
     },
     "metadata": {
      "needs_background": "light"
     },
     "output_type": "display_data"
    }
   ],
   "source": [
    "var=df.Country[df.Country=='AUSTRALIA'].groupby(['month']).count()\n",
    "plt.bar(var.index,var.values)\n",
    "print(f'---> Season data - AUSTRALIA Cases')"
   ]
  },
  {
   "cell_type": "code",
   "execution_count": 56,
   "metadata": {},
   "outputs": [
    {
     "name": "stdout",
     "output_type": "stream",
     "text": [
      "---> Season data - SOUTH AFRICA Cases\n"
     ]
    },
    {
     "data": {
      "image/png": "[encoded data removed]",
      "text/plain": [
       "<matplotlib.figure.Figure at 0x7f1365d49400>"
      ]
     },
     "metadata": {
      "needs_background": "light"
     },
     "output_type": "display_data"
    }
   ],
   "source": [
    "var=df.Country[df.Country=='SOUTH AFRICA'].groupby(['month']).count()\n",
    "plt.bar(var.index,var.values)\n",
    "print(f'---> Season data - SOUTH AFRICA Cases')"
   ]
  },
  {
   "cell_type": "code",
   "execution_count": null,
   "metadata": {},
   "outputs": [],
   "source": [
    "var=df.Type.groupby(['year']).count()\n",
    "plt.bar(var.index,var.values)\n",
    "print(f'---> Evolution of the data')"
   ]
  },
  {
   "cell_type": "code",
   "execution_count": 97,
   "metadata": {},
   "outputs": [
    {
     "data": {
      "image/png": "[encoded data removed]",
      "text/plain": [
       "<matplotlib.figure.Figure at 0x7f13662fb908>"
      ]
     },
     "metadata": {},
     "output_type": "display_data"
    }
   ],
   "source": [
    "var_s_b=df.Species.value_counts()>30\n",
    "var_s=df.Species.value_counts()\n",
    "resto=var_s[~var_s_b].sum()\n",
    "var_s=var_s[var_s_b]\n",
    "var_s=var_s.append(pd.Series([resto], index=['Others']))\n",
    "\n",
    "fig1, ax1 = plt.subplots()\n",
    "ax1.pie(var.values, labels=var.index, autopct='%1.1f%%',\n",
    "        shadow=True, startangle=90)\n",
    "\n",
    "ax1.set(aspect=\"equal\", title='Attacks by Species')\n",
    "ax1.axis('equal')  # Equal aspect ratio ensures that pie is drawn as a circle.\n",
    "plt.show()\n"
   ]
  },
  {
   "cell_type": "code",
   "execution_count": 92,
   "metadata": {},
   "outputs": [
    {
     "data": {
      "image/png": "[encoded data removed]",
      "text/plain": [
       "<matplotlib.figure.Figure at 0x7f13664447f0>"
      ]
     },
     "metadata": {},
     "output_type": "display_data"
    }
   ],
   "source": [
    "var_b=df.Country.value_counts()>15\n",
    "var=df.Country.value_counts()\n",
    "resto=var[~var_b].sum()\n",
    "var=var[var_b]\n",
    "var=var.append(pd.Series([resto], index=['Others']))\n",
    "\n",
    "fig1, ax1 = plt.subplots()\n",
    "ax1.pie(var.values, labels=var.index, autopct='%1.1f%%',\n",
    "        shadow=True, startangle=90)\n",
    "\n",
    "ax1.set(aspect=\"equal\", title='Attacks by Country')\n",
    "ax1.axis('equal')  # Equal aspect ratio ensures that pie is drawn as a circle.\n",
    "plt.show()"
   ]
  },
  {
   "cell_type": "code",
   "execution_count": 112,
   "metadata": {},
   "outputs": [
    {
     "data": {
      "text/html": [
       "<div>\n",
       "<style scoped>\n",
       "    .dataframe tbody tr th:only-of-type {\n",
       "        vertical-align: middle;\n",
       "    }\n",
       "\n",
       "    .dataframe tbody tr th {\n",
       "        vertical-align: top;\n",
       "    }\n",
       "\n",
       "    .dataframe thead th {\n",
       "        text-align: right;\n",
       "    }\n",
       "</style>\n",
       "<table border=\"1\" class=\"dataframe\">\n",
       "  <thead>\n",
       "    <tr style=\"text-align: right;\">\n",
       "      <th></th>\n",
       "      <th></th>\n",
       "      <th>Activity</th>\n",
       "    </tr>\n",
       "    <tr>\n",
       "      <th>Country</th>\n",
       "      <th>Species</th>\n",
       "      <th></th>\n",
       "    </tr>\n",
       "  </thead>\n",
       "  <tbody>\n",
       "    <tr>\n",
       "      <th rowspan=\"2\" valign=\"top\">AMERICAN SAMOA</th>\n",
       "      <th>Blue</th>\n",
       "      <td>1</td>\n",
       "    </tr>\n",
       "    <tr>\n",
       "      <th>Tiger</th>\n",
       "      <td>1</td>\n",
       "    </tr>\n",
       "    <tr>\n",
       "      <th>ARGENTINA</th>\n",
       "      <th>White</th>\n",
       "      <td>1</td>\n",
       "    </tr>\n",
       "    <tr>\n",
       "      <th rowspan=\"2\" valign=\"top\">AUSTRALIA</th>\n",
       "      <th>Blacktip</th>\n",
       "      <td>2</td>\n",
       "    </tr>\n",
       "    <tr>\n",
       "      <th>Blue</th>\n",
       "      <td>1</td>\n",
       "    </tr>\n",
       "    <tr>\n",
       "      <th>...</th>\n",
       "      <th>...</th>\n",
       "      <td>...</td>\n",
       "    </tr>\n",
       "    <tr>\n",
       "      <th>USA</th>\n",
       "      <th>White</th>\n",
       "      <td>134</td>\n",
       "    </tr>\n",
       "    <tr>\n",
       "      <th>VANUATU</th>\n",
       "      <th>Unidentified</th>\n",
       "      <td>2</td>\n",
       "    </tr>\n",
       "    <tr>\n",
       "      <th rowspan=\"2\" valign=\"top\">VENEZUELA</th>\n",
       "      <th>Bull</th>\n",
       "      <td>1</td>\n",
       "    </tr>\n",
       "    <tr>\n",
       "      <th>Mako</th>\n",
       "      <td>1</td>\n",
       "    </tr>\n",
       "    <tr>\n",
       "      <th>VIETNAM</th>\n",
       "      <th>Unidentified</th>\n",
       "      <td>3</td>\n",
       "    </tr>\n",
       "  </tbody>\n",
       "</table>\n",
       "<p>155 rows × 1 columns</p>\n",
       "</div>"
      ],
      "text/plain": [
       "                             Activity\n",
       "Country        Species               \n",
       "AMERICAN SAMOA Blue                 1\n",
       "               Tiger                1\n",
       "ARGENTINA      White                1\n",
       "AUSTRALIA      Blacktip             2\n",
       "               Blue                 1\n",
       "...                               ...\n",
       "USA            White              134\n",
       "VANUATU        Unidentified         2\n",
       "VENEZUELA      Bull                 1\n",
       "               Mako                 1\n",
       "VIETNAM        Unidentified         3\n",
       "\n",
       "[155 rows x 1 columns]"
      ]
     },
     "execution_count": 112,
     "metadata": {},
     "output_type": "execute_result"
    }
   ],
   "source": [
    "df_cs=df[['Country','Species','Activity']].groupby(['Country','Species']).count()\n",
    "df_cs2=pd.DataFrame(df_cs.Activity)\n",
    "#df_cs3=df_cs2.pivot(index='Country', columns='Species', values='Activity')\n",
    "df_cs2"
   ]
  },
  {
   "cell_type": "code",
   "execution_count": 87,
   "metadata": {},
   "outputs": [
    {
     "data": {
      "image/png": "[encoded data removed]",
      "text/plain": [
       "<matplotlib.figure.Figure at 0x7f1366194240>"
      ]
     },
     "metadata": {},
     "output_type": "display_data"
    }
   ],
   "source": [
    "country = [\"cucumber\", \"tomato\", \"lettuce\", \"asparagus\",\n",
    "              \"potato\", \"wheat\", \"barley\"]\n",
    "farmers = [\"Farmer Joe\", \"Upland Bros.\", \"Smith Gardening\",\n",
    "           \"Agrifun\", \"Organiculture\", \"BioGoods Ltd.\", \"Cornylee Corp.\"]\n",
    "\n",
    "harvest = np.array([[0.8, 2.4, 2.5, 3.9, 0.0, 4.0, 0.0],\n",
    "                    [2.4, 0.0, 4.0, 1.0, 2.7, 0.0, 0.0],\n",
    "                    [1.1, 2.4, 0.8, 4.3, 1.9, 4.4, 0.0],\n",
    "                    [0.6, 0.0, 0.3, 0.0, 3.1, 0.0, 0.0],\n",
    "                    [0.7, 1.7, 0.6, 2.6, 2.2, 6.2, 0.0],\n",
    "                    [1.3, 1.2, 0.0, 0.0, 0.0, 3.2, 5.1],\n",
    "                    [0.1, 2.0, 0.0, 1.4, 0.0, 1.9, 6.3]])\n",
    "\n",
    "\n",
    "fig, ax = plt.subplots()\n",
    "im = ax.imshow(harvest)\n",
    "\n",
    "# We want to show all ticks...\n",
    "ax.set_xticks(np.arange(len(farmers)))\n",
    "ax.set_yticks(np.arange(len(vegetables)))\n",
    "# ... and label them with the respective list entries\n",
    "ax.set_xticklabels(farmers)\n",
    "ax.set_yticklabels(vegetables)\n",
    "\n",
    "# Rotate the tick labels and set their alignment.\n",
    "plt.setp(ax.get_xticklabels(), rotation=45, ha=\"right\",\n",
    "         rotation_mode=\"anchor\")\n",
    "\n",
    "# Loop over data dimensions and create text annotations.\n",
    "for i in range(len(vegetables)):\n",
    "    for j in range(len(farmers)):\n",
    "        text = ax.text(j, i, harvest[i, j],\n",
    "                       ha=\"center\", va=\"center\", color=\"w\")\n",
    "\n",
    "ax.set_title(\"Harvest of local farmers (in tons/year)\")\n",
    "fig.tight_layout()\n",
    "plt.show()"
   ]
  },
  {
   "cell_type": "code",
   "execution_count": null,
   "metadata": {},
   "outputs": [],
   "source": [
    "var_b=df.Species.value_counts()>30\n",
    "var=df.Species.value_counts()\n",
    "resto=var[~var_b].sum()\n",
    "var=var[var_b]\n",
    "var=var.append(pd.Series([resto], index=['Others']))"
   ]
  },
  {
   "cell_type": "code",
   "execution_count": 88,
   "metadata": {},
   "outputs": [
    {
     "data": {
      "text/plain": [
       "USA             676\n",
       "AUSTRALIA       307\n",
       "SOUTH AFRICA    216\n",
       "Others          226\n",
       "dtype: int64"
      ]
     },
     "execution_count": 88,
     "metadata": {},
     "output_type": "execute_result"
    }
   ],
   "source": [
    "var_b=df.Country.value_counts()>30\n",
    "var=df.Country.value_counts()\n",
    "resto=var[~var_b].sum()\n",
    "var=var[var_b]\n",
    "var=var.append(pd.Series([resto], index=['Others']))\n",
    "var"
   ]
  },
  {
   "cell_type": "code",
   "execution_count": null,
   "metadata": {},
   "outputs": [],
   "source": []
  },
  {
   "cell_type": "code",
   "execution_count": null,
   "metadata": {},
   "outputs": [],
   "source": [
    "result_3 = statsmodels.discrete.discrete_model.Probit(labf_part, ind_var_probit )\n",
    "print(result_3.summary())"
   ]
  }
 ],
 "metadata": {
  "kernelspec": {
   "display_name": "Python 3",
   "language": "python",
   "name": "python3"
  },
  "language_info": {
   "codemirror_mode": {
    "name": "ipython",
    "version": 3
   },
   "file_extension": ".py",
   "mimetype": "text/x-python",
   "name": "python",
   "nbconvert_exporter": "python",
   "pygments_lexer": "ipython3",
   "version": "3.6.9"
  }
 },
 "nbformat": 4,
 "nbformat_minor": 2
}
