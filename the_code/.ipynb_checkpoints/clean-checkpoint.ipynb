{
 "cells": [
  {
   "cell_type": "markdown",
   "metadata": {},
   "source": [
    "# First Panda Project - cleaning datasets"
   ]
  },
  {
   "cell_type": "markdown",
   "metadata": {},
   "source": [
    "### Importing\n"
   ]
  },
  {
   "cell_type": "code",
   "execution_count": 1,
   "metadata": {
    "scrolled": true
   },
   "outputs": [
    {
     "name": "stdout",
     "output_type": "stream",
     "text": [
      "(25723, 24)\n"
     ]
    },
    {
     "data": {
      "text/html": [
       "<div>\n",
       "<style scoped>\n",
       "    .dataframe tbody tr th:only-of-type {\n",
       "        vertical-align: middle;\n",
       "    }\n",
       "\n",
       "    .dataframe tbody tr th {\n",
       "        vertical-align: top;\n",
       "    }\n",
       "\n",
       "    .dataframe thead th {\n",
       "        text-align: right;\n",
       "    }\n",
       "</style>\n",
       "<table border=\"1\" class=\"dataframe\">\n",
       "  <thead>\n",
       "    <tr style=\"text-align: right;\">\n",
       "      <th></th>\n",
       "      <th>Case Number</th>\n",
       "      <th>Date</th>\n",
       "      <th>Year</th>\n",
       "      <th>Type</th>\n",
       "      <th>Country</th>\n",
       "      <th>Area</th>\n",
       "      <th>Location</th>\n",
       "      <th>Activity</th>\n",
       "      <th>Name</th>\n",
       "      <th>Sex</th>\n",
       "      <th>...</th>\n",
       "      <th>Species</th>\n",
       "      <th>Investigator or Source</th>\n",
       "      <th>pdf</th>\n",
       "      <th>href formula</th>\n",
       "      <th>href</th>\n",
       "      <th>Case Number.1</th>\n",
       "      <th>Case Number.2</th>\n",
       "      <th>original order</th>\n",
       "      <th>Unnamed: 22</th>\n",
       "      <th>Unnamed: 23</th>\n",
       "    </tr>\n",
       "  </thead>\n",
       "  <tbody>\n",
       "    <tr>\n",
       "      <th>0</th>\n",
       "      <td>2018.06.25</td>\n",
       "      <td>25-Jun-2018</td>\n",
       "      <td>2018.0</td>\n",
       "      <td>Boating</td>\n",
       "      <td>USA</td>\n",
       "      <td>California</td>\n",
       "      <td>Oceanside, San Diego County</td>\n",
       "      <td>Paddling</td>\n",
       "      <td>Julie Wolfe</td>\n",
       "      <td>F</td>\n",
       "      <td>...</td>\n",
       "      <td>White shark</td>\n",
       "      <td>R. Collier, GSAF</td>\n",
       "      <td>2018.06.25-Wolfe.pdf</td>\n",
       "      <td>http://sharkattackfile.net/spreadsheets/pdf_di...</td>\n",
       "      <td>http://sharkattackfile.net/spreadsheets/pdf_di...</td>\n",
       "      <td>2018.06.25</td>\n",
       "      <td>2018.06.25</td>\n",
       "      <td>6303.0</td>\n",
       "      <td>NaN</td>\n",
       "      <td>NaN</td>\n",
       "    </tr>\n",
       "    <tr>\n",
       "      <th>1</th>\n",
       "      <td>2018.06.18</td>\n",
       "      <td>18-Jun-2018</td>\n",
       "      <td>2018.0</td>\n",
       "      <td>Unprovoked</td>\n",
       "      <td>USA</td>\n",
       "      <td>Georgia</td>\n",
       "      <td>St. Simon Island, Glynn County</td>\n",
       "      <td>Standing</td>\n",
       "      <td>Adyson McNeely</td>\n",
       "      <td>F</td>\n",
       "      <td>...</td>\n",
       "      <td>NaN</td>\n",
       "      <td>K.McMurray, TrackingSharks.com</td>\n",
       "      <td>2018.06.18-McNeely.pdf</td>\n",
       "      <td>http://sharkattackfile.net/spreadsheets/pdf_di...</td>\n",
       "      <td>http://sharkattackfile.net/spreadsheets/pdf_di...</td>\n",
       "      <td>2018.06.18</td>\n",
       "      <td>2018.06.18</td>\n",
       "      <td>6302.0</td>\n",
       "      <td>NaN</td>\n",
       "      <td>NaN</td>\n",
       "    </tr>\n",
       "    <tr>\n",
       "      <th>2</th>\n",
       "      <td>2018.06.09</td>\n",
       "      <td>09-Jun-2018</td>\n",
       "      <td>2018.0</td>\n",
       "      <td>Invalid</td>\n",
       "      <td>USA</td>\n",
       "      <td>Hawaii</td>\n",
       "      <td>Habush, Oahu</td>\n",
       "      <td>Surfing</td>\n",
       "      <td>John Denges</td>\n",
       "      <td>M</td>\n",
       "      <td>...</td>\n",
       "      <td>NaN</td>\n",
       "      <td>K.McMurray, TrackingSharks.com</td>\n",
       "      <td>2018.06.09-Denges.pdf</td>\n",
       "      <td>http://sharkattackfile.net/spreadsheets/pdf_di...</td>\n",
       "      <td>http://sharkattackfile.net/spreadsheets/pdf_di...</td>\n",
       "      <td>2018.06.09</td>\n",
       "      <td>2018.06.09</td>\n",
       "      <td>6301.0</td>\n",
       "      <td>NaN</td>\n",
       "      <td>NaN</td>\n",
       "    </tr>\n",
       "    <tr>\n",
       "      <th>3</th>\n",
       "      <td>2018.06.08</td>\n",
       "      <td>08-Jun-2018</td>\n",
       "      <td>2018.0</td>\n",
       "      <td>Unprovoked</td>\n",
       "      <td>AUSTRALIA</td>\n",
       "      <td>New South Wales</td>\n",
       "      <td>Arrawarra Headland</td>\n",
       "      <td>Surfing</td>\n",
       "      <td>male</td>\n",
       "      <td>M</td>\n",
       "      <td>...</td>\n",
       "      <td>2 m shark</td>\n",
       "      <td>B. Myatt, GSAF</td>\n",
       "      <td>2018.06.08-Arrawarra.pdf</td>\n",
       "      <td>http://sharkattackfile.net/spreadsheets/pdf_di...</td>\n",
       "      <td>http://sharkattackfile.net/spreadsheets/pdf_di...</td>\n",
       "      <td>2018.06.08</td>\n",
       "      <td>2018.06.08</td>\n",
       "      <td>6300.0</td>\n",
       "      <td>NaN</td>\n",
       "      <td>NaN</td>\n",
       "    </tr>\n",
       "    <tr>\n",
       "      <th>4</th>\n",
       "      <td>2018.06.04</td>\n",
       "      <td>04-Jun-2018</td>\n",
       "      <td>2018.0</td>\n",
       "      <td>Provoked</td>\n",
       "      <td>MEXICO</td>\n",
       "      <td>Colima</td>\n",
       "      <td>La Ticla</td>\n",
       "      <td>Free diving</td>\n",
       "      <td>Gustavo Ramos</td>\n",
       "      <td>M</td>\n",
       "      <td>...</td>\n",
       "      <td>Tiger shark, 3m</td>\n",
       "      <td>A .Kipper</td>\n",
       "      <td>2018.06.04-Ramos.pdf</td>\n",
       "      <td>http://sharkattackfile.net/spreadsheets/pdf_di...</td>\n",
       "      <td>http://sharkattackfile.net/spreadsheets/pdf_di...</td>\n",
       "      <td>2018.06.04</td>\n",
       "      <td>2018.06.04</td>\n",
       "      <td>6299.0</td>\n",
       "      <td>NaN</td>\n",
       "      <td>NaN</td>\n",
       "    </tr>\n",
       "  </tbody>\n",
       "</table>\n",
       "<p>5 rows × 24 columns</p>\n",
       "</div>"
      ],
      "text/plain": [
       "  Case Number         Date    Year        Type    Country             Area  \\\n",
       "0  2018.06.25  25-Jun-2018  2018.0     Boating        USA       California   \n",
       "1  2018.06.18  18-Jun-2018  2018.0  Unprovoked        USA          Georgia   \n",
       "2  2018.06.09  09-Jun-2018  2018.0     Invalid        USA           Hawaii   \n",
       "3  2018.06.08  08-Jun-2018  2018.0  Unprovoked  AUSTRALIA  New South Wales   \n",
       "4  2018.06.04  04-Jun-2018  2018.0    Provoked     MEXICO           Colima   \n",
       "\n",
       "                         Location     Activity             Name Sex   ...  \\\n",
       "0     Oceanside, San Diego County     Paddling      Julie Wolfe    F  ...   \n",
       "1  St. Simon Island, Glynn County     Standing  Adyson McNeely     F  ...   \n",
       "2                    Habush, Oahu      Surfing      John Denges    M  ...   \n",
       "3              Arrawarra Headland      Surfing             male    M  ...   \n",
       "4                        La Ticla  Free diving   Gustavo Ramos     M  ...   \n",
       "\n",
       "          Species           Investigator or Source                       pdf  \\\n",
       "0      White shark                R. Collier, GSAF      2018.06.25-Wolfe.pdf   \n",
       "1              NaN  K.McMurray, TrackingSharks.com    2018.06.18-McNeely.pdf   \n",
       "2              NaN  K.McMurray, TrackingSharks.com     2018.06.09-Denges.pdf   \n",
       "3        2 m shark                  B. Myatt, GSAF  2018.06.08-Arrawarra.pdf   \n",
       "4  Tiger shark, 3m                       A .Kipper      2018.06.04-Ramos.pdf   \n",
       "\n",
       "                                        href formula  \\\n",
       "0  http://sharkattackfile.net/spreadsheets/pdf_di...   \n",
       "1  http://sharkattackfile.net/spreadsheets/pdf_di...   \n",
       "2  http://sharkattackfile.net/spreadsheets/pdf_di...   \n",
       "3  http://sharkattackfile.net/spreadsheets/pdf_di...   \n",
       "4  http://sharkattackfile.net/spreadsheets/pdf_di...   \n",
       "\n",
       "                                                href Case Number.1  \\\n",
       "0  http://sharkattackfile.net/spreadsheets/pdf_di...    2018.06.25   \n",
       "1  http://sharkattackfile.net/spreadsheets/pdf_di...    2018.06.18   \n",
       "2  http://sharkattackfile.net/spreadsheets/pdf_di...    2018.06.09   \n",
       "3  http://sharkattackfile.net/spreadsheets/pdf_di...    2018.06.08   \n",
       "4  http://sharkattackfile.net/spreadsheets/pdf_di...    2018.06.04   \n",
       "\n",
       "  Case Number.2 original order Unnamed: 22 Unnamed: 23  \n",
       "0    2018.06.25         6303.0         NaN         NaN  \n",
       "1    2018.06.18         6302.0         NaN         NaN  \n",
       "2    2018.06.09         6301.0         NaN         NaN  \n",
       "3    2018.06.08         6300.0         NaN         NaN  \n",
       "4    2018.06.04         6299.0         NaN         NaN  \n",
       "\n",
       "[5 rows x 24 columns]"
      ]
     },
     "execution_count": 1,
     "metadata": {},
     "output_type": "execute_result"
    }
   ],
   "source": [
    "# Importing libraries\n",
    "import pandas as pd\n",
    "import numpy as np\n",
    "import matplotlib.pyplot as plt\n",
    "import re \n",
    "\n",
    "# Importing data \n",
    "# * because an error we should use encoding='latin-1'\n",
    "\n",
    "df = pd.read_csv('../../../../data/attacks.csv', encoding='latin-1')\n",
    "print(df.shape)\n",
    "df.head()"
   ]
  },
  {
   "cell_type": "markdown",
   "metadata": {},
   "source": [
    "\n",
    "### Reflexions and raw data description\n",
    "- The last two columns are probably empty\n",
    "- The information of the following columns is problably not relevant at all:\n",
    "    - original order\n",
    "    - href\n",
    "    - href formula\n",
    "    - pdf\n",
    "    - Investigator or Source\n",
    "    - Name\n",
    "    - Case Number \t\n",
    "- Meanwhile the others columns looks important:\n",
    "    - Date\n",
    "    - Year\n",
    "    - Type\n",
    "    - Country\n",
    "    - Area \t\n",
    "    - Location\n",
    "    - Activity \t\n",
    "    - Sex (of the shark)\n",
    "    - Species\n",
    "    \n",
    "#### --> First hipothesis\n",
    "    The sharks attack depend on the season\n",
    "\n",
    "### Cleaning\n",
    "\n",
    "##### Data description"
   ]
  },
  {
   "cell_type": "markdown",
   "metadata": {},
   "source": [
    "\n",
    "- The last two columns are probably empty\n"
   ]
  },
  {
   "cell_type": "code",
   "execution_count": 2,
   "metadata": {},
   "outputs": [
    {
     "name": "stdout",
     "output_type": "stream",
     "text": [
      "stopped here    1\n",
      "Name: Unnamed: 22, dtype: int64\n",
      "change filename    1\n",
      "Teramo             1\n",
      "Name: Unnamed: 23, dtype: int64\n"
     ]
    }
   ],
   "source": [
    "print(df[\"Unnamed: 22\"].value_counts())\n",
    "print(df[\"Unnamed: 23\"].value_counts())"
   ]
  },
  {
   "cell_type": "markdown",
   "metadata": {},
   "source": [
    "- Yes, there are eampty. Dropping the last two columns"
   ]
  },
  {
   "cell_type": "code",
   "execution_count": 3,
   "metadata": {},
   "outputs": [],
   "source": [
    "df=df.drop([\"Unnamed: 22\", \"Unnamed: 23\"],axis=1)"
   ]
  },
  {
   "cell_type": "code",
   "execution_count": 4,
   "metadata": {},
   "outputs": [
    {
     "name": "stdout",
     "output_type": "stream",
     "text": [
      "Index(['Case Number', 'Date', 'Year', 'Type', 'Country', 'Area', 'Location',\n",
      "       'Activity', 'Name', 'Sex ', 'Age', 'Injury', 'Fatal (Y/N)', 'Time',\n",
      "       'Species ', 'Investigator or Source', 'pdf', 'href formula', 'href',\n",
      "       'Case Number.1', 'Case Number.2', 'original order'],\n",
      "      dtype='object')\n"
     ]
    },
    {
     "data": {
      "text/html": [
       "<div>\n",
       "<style scoped>\n",
       "    .dataframe tbody tr th:only-of-type {\n",
       "        vertical-align: middle;\n",
       "    }\n",
       "\n",
       "    .dataframe tbody tr th {\n",
       "        vertical-align: top;\n",
       "    }\n",
       "\n",
       "    .dataframe thead th {\n",
       "        text-align: right;\n",
       "    }\n",
       "</style>\n",
       "<table border=\"1\" class=\"dataframe\">\n",
       "  <thead>\n",
       "    <tr style=\"text-align: right;\">\n",
       "      <th></th>\n",
       "      <th>Age</th>\n",
       "      <th>Injury</th>\n",
       "      <th>Fatal (Y/N)</th>\n",
       "      <th>Time</th>\n",
       "    </tr>\n",
       "  </thead>\n",
       "  <tbody>\n",
       "    <tr>\n",
       "      <th>0</th>\n",
       "      <td>57</td>\n",
       "      <td>No injury to occupant, outrigger canoe and pad...</td>\n",
       "      <td>N</td>\n",
       "      <td>18h00</td>\n",
       "    </tr>\n",
       "    <tr>\n",
       "      <th>1</th>\n",
       "      <td>11</td>\n",
       "      <td>Minor injury to left thigh</td>\n",
       "      <td>N</td>\n",
       "      <td>14h00  -15h00</td>\n",
       "    </tr>\n",
       "    <tr>\n",
       "      <th>2</th>\n",
       "      <td>48</td>\n",
       "      <td>Injury to left lower leg from surfboard skeg</td>\n",
       "      <td>N</td>\n",
       "      <td>07h45</td>\n",
       "    </tr>\n",
       "    <tr>\n",
       "      <th>3</th>\n",
       "      <td>NaN</td>\n",
       "      <td>Minor injury to lower leg</td>\n",
       "      <td>N</td>\n",
       "      <td>NaN</td>\n",
       "    </tr>\n",
       "    <tr>\n",
       "      <th>4</th>\n",
       "      <td>NaN</td>\n",
       "      <td>Lacerations to leg &amp; hand shark PROVOKED INCIDENT</td>\n",
       "      <td>N</td>\n",
       "      <td>NaN</td>\n",
       "    </tr>\n",
       "  </tbody>\n",
       "</table>\n",
       "</div>"
      ],
      "text/plain": [
       "   Age                                             Injury Fatal (Y/N)  \\\n",
       "0   57  No injury to occupant, outrigger canoe and pad...           N   \n",
       "1   11                         Minor injury to left thigh           N   \n",
       "2   48       Injury to left lower leg from surfboard skeg           N   \n",
       "3  NaN                          Minor injury to lower leg           N   \n",
       "4  NaN  Lacerations to leg & hand shark PROVOKED INCIDENT           N   \n",
       "\n",
       "            Time  \n",
       "0          18h00  \n",
       "1  14h00  -15h00  \n",
       "2          07h45  \n",
       "3            NaN  \n",
       "4            NaN  "
      ]
     },
     "execution_count": 4,
     "metadata": {},
     "output_type": "execute_result"
    }
   ],
   "source": [
    "# Some columns were missing from the first head\n",
    "print(df.columns)\n",
    "# the columns that were missing.\n",
    "df[['Age', 'Injury', 'Fatal (Y/N)', 'Time']].head()"
   ]
  },
  {
   "cell_type": "code",
   "execution_count": 5,
   "metadata": {},
   "outputs": [
    {
     "data": {
      "text/plain": [
       "Case Number               17021\n",
       "Date                      19421\n",
       "Year                      19423\n",
       "Type                      19425\n",
       "Country                   19471\n",
       "Area                      19876\n",
       "Location                  19961\n",
       "Activity                  19965\n",
       "Name                      19631\n",
       "Sex                       19986\n",
       "Age                       22252\n",
       "Injury                    19449\n",
       "Fatal (Y/N)               19960\n",
       "Time                      22775\n",
       "Species                   22259\n",
       "Investigator or Source    19438\n",
       "pdf                       19421\n",
       "href formula              19422\n",
       "href                      19421\n",
       "Case Number.1             19421\n",
       "Case Number.2             19421\n",
       "original order            19414\n",
       "dtype: int64"
      ]
     },
     "execution_count": 5,
     "metadata": {},
     "output_type": "execute_result"
    }
   ],
   "source": [
    "# Total number of null value by columns\n",
    "df.isna().sum()"
   ]
  },
  {
   "cell_type": "code",
   "execution_count": 6,
   "metadata": {},
   "outputs": [],
   "source": [
    "# Count the null values by row (it takes timeeee)\n",
    "\n",
    "Null_col=df.isna()\n",
    "null_total=[]\n",
    "for i in range(Null_col.shape[0]):\n",
    "    null_total.append(Null_col.loc[i].sum()) "
   ]
  },
  {
   "cell_type": "code",
   "execution_count": 7,
   "metadata": {},
   "outputs": [
    {
     "data": {
      "image/png": "[encoded data removed]",
      "text/plain": [
       "<matplotlib.figure.Figure at 0x7fa1fb8bb908>"
      ]
     },
     "metadata": {
      "needs_background": "light"
     },
     "output_type": "display_data"
    }
   ],
   "source": [
    "# Display the quantities by number of null in row.\n",
    "plt.hist(null_total)\n",
    "hist_null=np.histogram(null_total, bins=22)"
   ]
  },
  {
   "cell_type": "code",
   "execution_count": 8,
   "metadata": {},
   "outputs": [
    {
     "data": {
      "text/plain": [
       "(array([ 1422,  1516,  1200,  1196,   540,   293,   102,    26,     7,\n",
       "            0,     0,     0,     0,     0,     0,     0,     0,     0,\n",
       "            0,     0,     7, 19414]),\n",
       " array([ 0.,  1.,  2.,  3.,  4.,  5.,  6.,  7.,  8.,  9., 10., 11., 12.,\n",
       "        13., 14., 15., 16., 17., 18., 19., 20., 21., 22.]))"
      ]
     },
     "execution_count": 8,
     "metadata": {},
     "output_type": "execute_result"
    }
   ],
   "source": [
    "# there are 19414 rows with null values in all 22 cells, and 7 rows with 21.\n",
    "\n",
    "hist_null"
   ]
  },
  {
   "cell_type": "code",
   "execution_count": 9,
   "metadata": {},
   "outputs": [
    {
     "name": "stdout",
     "output_type": "stream",
     "text": [
      "the new size of df: (8703, 22)  after drop 17020\n",
      "the new size of df: (6309, 22)  after drop 2394\n"
     ]
    }
   ],
   "source": [
    "# Drop the rows with 22 and 21 null values in all cells\n",
    "\n",
    "#\n",
    "df_null=pd.DataFrame(null_total,index=range(len(null_total)), columns=['n_nulls'])\n",
    "index_null22 = np.where(df_null.n_nulls==22)\n",
    "index_null22_l = list(index_null22[0])\n",
    "df=df.drop(index_null22_l)\n",
    "print(f'the new size of df: {df.shape}  after drop {len(index_null22_l)}')\n",
    "index_null21 = np.where(df_null.n_nulls==21)\n",
    "index_null21_l = list(index_null21[0])\n",
    "df=df.drop(index_null21_l)\n",
    "print(f'the new size of df: {df.shape}  after drop {len(index_null21_l)}')\n"
   ]
  },
  {
   "cell_type": "code",
   "execution_count": 10,
   "metadata": {},
   "outputs": [],
   "source": [
    "# Count the null values by row (it takes timeeee)\n",
    "Null_col_1=df.isna()\n",
    "null_total_1=[]\n",
    "for i in range(Null_col_1.shape[0]):\n",
    "    null_total_1.append(Null_col_1.loc[i].sum()) \n",
    "    "
   ]
  },
  {
   "cell_type": "code",
   "execution_count": 11,
   "metadata": {},
   "outputs": [
    {
     "data": {
      "text/plain": [
       "(array([1422, 1516, 1200, 1196,  540,  293,  102,   26,    7,    0,    0,\n",
       "           0,    0,    0,    0,    0,    0,    0,    0,    7]),\n",
       " array([ 0,  1,  2,  3,  4,  5,  6,  7,  8,  9, 10, 11, 12, 13, 14, 15, 16,\n",
       "        17, 18, 19, 20]))"
      ]
     },
     "execution_count": 11,
     "metadata": {},
     "output_type": "execute_result"
    },
    {
     "data": {
      "image/png": "[encoded data removed]",
      "text/plain": [
       "<matplotlib.figure.Figure at 0x7fa1fb481160>"
      ]
     },
     "metadata": {
      "needs_background": "light"
     },
     "output_type": "display_data"
    }
   ],
   "source": [
    "# new histogram (Nulls by Rows)\n",
    "plt.hist(null_total_1)\n",
    "hist_null_1=np.histogram(null_total_1, bins=range(max(null_total_1)+1))\n",
    "hist_null_1"
   ]
  },
  {
   "cell_type": "code",
   "execution_count": 12,
   "metadata": {},
   "outputs": [
    {
     "data": {
      "text/plain": [
       "Case Number                  1\n",
       "Date                         7\n",
       "Year                         9\n",
       "Type                        11\n",
       "Country                     57\n",
       "Area                       462\n",
       "Location                   547\n",
       "Activity                   551\n",
       "Name                       217\n",
       "Sex                        572\n",
       "Age                       2838\n",
       "Injury                      35\n",
       "Fatal (Y/N)                546\n",
       "Time                      3361\n",
       "Species                   2845\n",
       "Investigator or Source      24\n",
       "pdf                          7\n",
       "href formula                 8\n",
       "href                         7\n",
       "Case Number.1                7\n",
       "Case Number.2                7\n",
       "original order               0\n",
       "dtype: int64"
      ]
     },
     "execution_count": 12,
     "metadata": {},
     "output_type": "execute_result"
    }
   ],
   "source": [
    "# Nulls by colums\n",
    "df.isna().sum()"
   ]
  },
  {
   "cell_type": "markdown",
   "metadata": {},
   "source": [
    "# Cleanning column \"TIME\""
   ]
  },
  {
   "cell_type": "code",
   "execution_count": 13,
   "metadata": {},
   "outputs": [
    {
     "data": {
      "text/plain": [
       "Afternoon        187\n",
       "11h00            128\n",
       "Morning          121\n",
       "12h00            109\n",
       "15h00            108\n",
       "                ... \n",
       "11h115             1\n",
       "16h14              1\n",
       "14h30 / 15h30      1\n",
       "19h05              1\n",
       "Late night         1\n",
       "Name: Time, Length: 366, dtype: int64"
      ]
     },
     "execution_count": 13,
     "metadata": {},
     "output_type": "execute_result"
    }
   ],
   "source": [
    "df.Time.value_counts()"
   ]
  },
  {
   "cell_type": "markdown",
   "metadata": {},
   "source": [
    "### Numbers filtering"
   ]
  },
  {
   "cell_type": "code",
   "execution_count": 64,
   "metadata": {},
   "outputs": [],
   "source": [
    "#Filtra los valores de la columna Time y aplica un filtro para encontrar las horas\n",
    "df_Time=pd.DataFrame(df.Time)\n",
    "\n",
    "#definición de la busqueda de horas\n",
    "hay_digitos=re.compile(r'\\d{2}'+re.escape('h'))\n",
    "hay_digitos.findall(\" 14h00  -15h0\")\n",
    "\n",
    "df_Time=df_Time.applymap(lambda x :hay_digitos.findall(str(x)))"
   ]
  },
  {
   "cell_type": "code",
   "execution_count": 65,
   "metadata": {},
   "outputs": [],
   "source": [
    "#Define la nueva columna con el valor númerico donde no pone -1\n",
    "def promedio_hora(vector_hora):\n",
    "    vector=[int(x[:-1]) for x in vector_hora]\n",
    "    return sum(vector)/len(vector) if len(vector)>0 else -1\n",
    "    \n",
    "df_Time['time_num'] = df_Time[['Time']].apply(lambda row: promedio_hora(row['Time']), axis=1)\n"
   ]
  },
  {
   "cell_type": "code",
   "execution_count": 66,
   "metadata": {},
   "outputs": [
    {
     "data": {
      "text/html": [
       "<div>\n",
       "<style scoped>\n",
       "    .dataframe tbody tr th:only-of-type {\n",
       "        vertical-align: middle;\n",
       "    }\n",
       "\n",
       "    .dataframe tbody tr th {\n",
       "        vertical-align: top;\n",
       "    }\n",
       "\n",
       "    .dataframe thead th {\n",
       "        text-align: right;\n",
       "    }\n",
       "</style>\n",
       "<table border=\"1\" class=\"dataframe\">\n",
       "  <thead>\n",
       "    <tr style=\"text-align: right;\">\n",
       "      <th></th>\n",
       "      <th>Time</th>\n",
       "      <th>time_num</th>\n",
       "    </tr>\n",
       "  </thead>\n",
       "  <tbody>\n",
       "    <tr>\n",
       "      <th>0</th>\n",
       "      <td>[18h]</td>\n",
       "      <td>18.0</td>\n",
       "    </tr>\n",
       "    <tr>\n",
       "      <th>1</th>\n",
       "      <td>[14h, 15h]</td>\n",
       "      <td>14.5</td>\n",
       "    </tr>\n",
       "    <tr>\n",
       "      <th>2</th>\n",
       "      <td>[07h]</td>\n",
       "      <td>7.0</td>\n",
       "    </tr>\n",
       "    <tr>\n",
       "      <th>8</th>\n",
       "      <td>[17h]</td>\n",
       "      <td>17.0</td>\n",
       "    </tr>\n",
       "    <tr>\n",
       "      <th>9</th>\n",
       "      <td>[14h]</td>\n",
       "      <td>14.0</td>\n",
       "    </tr>\n",
       "    <tr>\n",
       "      <th>...</th>\n",
       "      <td>...</td>\n",
       "      <td>...</td>\n",
       "    </tr>\n",
       "    <tr>\n",
       "      <th>6105</th>\n",
       "      <td>[19h, 20h]</td>\n",
       "      <td>19.5</td>\n",
       "    </tr>\n",
       "    <tr>\n",
       "      <th>6115</th>\n",
       "      <td>[13h]</td>\n",
       "      <td>13.0</td>\n",
       "    </tr>\n",
       "    <tr>\n",
       "      <th>6140</th>\n",
       "      <td>[22h]</td>\n",
       "      <td>22.0</td>\n",
       "    </tr>\n",
       "    <tr>\n",
       "      <th>6141</th>\n",
       "      <td>[06h]</td>\n",
       "      <td>6.0</td>\n",
       "    </tr>\n",
       "    <tr>\n",
       "      <th>6200</th>\n",
       "      <td>[18h]</td>\n",
       "      <td>18.0</td>\n",
       "    </tr>\n",
       "  </tbody>\n",
       "</table>\n",
       "<p>2365 rows × 2 columns</p>\n",
       "</div>"
      ],
      "text/plain": [
       "            Time  time_num\n",
       "0          [18h]      18.0\n",
       "1     [14h, 15h]      14.5\n",
       "2          [07h]       7.0\n",
       "8          [17h]      17.0\n",
       "9          [14h]      14.0\n",
       "...          ...       ...\n",
       "6105  [19h, 20h]      19.5\n",
       "6115       [13h]      13.0\n",
       "6140       [22h]      22.0\n",
       "6141       [06h]       6.0\n",
       "6200       [18h]      18.0\n",
       "\n",
       "[2365 rows x 2 columns]"
      ]
     },
     "execution_count": 66,
     "metadata": {},
     "output_type": "execute_result"
    }
   ],
   "source": [
    "#filtra por los valores númericos\n",
    "df_Time_num=df_Time[df_Time['time_num']>0]\n",
    "\n",
    "# indices con número en time \n",
    "indices_con_num=list(df_Time_num.index)\n",
    "\n",
    "# Primer grupo de Horas que tienen un valor númerico \n",
    "df_Time_num"
   ]
  },
  {
   "cell_type": "markdown",
   "metadata": {},
   "source": [
    "### Text filtering"
   ]
  },
  {
   "cell_type": "code",
   "execution_count": 78,
   "metadata": {},
   "outputs": [
    {
     "data": {
      "text/plain": [
       "Afternoon                                                                187\n",
       "Morning                                                                  121\n",
       "Night                                                                     62\n",
       "Late afternoon                                                            35\n",
       "Evening                                                                   34\n",
       "                                                                        ... \n",
       "Just before sundown                                                        1\n",
       "Late night                                                                 1\n",
       "FATAL  (Wire netting installed at local beaches after this incident.)      1\n",
       "Daytime                                                                    1\n",
       "After dusk                                                                 1\n",
       "Name: time_str, Length: 63, dtype: int64"
      ]
     },
     "execution_count": 78,
     "metadata": {},
     "output_type": "execute_result"
    }
   ],
   "source": [
    "#Filtra los valores de la columna Time y aplica un filtro para encontrar los valores de la columna\n",
    "df_Time=pd.DataFrame(df.Time)\n",
    "\n",
    "# Filtra los que no son dígitos\n",
    "no_hay_digitos=re.compile(r'[\\D]')\n",
    "df_Time['time_str_fil']=df_Time.applymap(lambda x :no_hay_digitos.findall(str(x)))\n",
    "\n",
    "# Convierte la lista de cada celda creada en cadena de carácteres\n",
    "df_Time['time_str']=df_Time.time_str_fil.apply(lambda x : ''.join(x))\n",
    "\n",
    "# Borra las celdas que tienen ya una hora asignada\n",
    "df_Time=df_Time.drop(indices_con_num)\n",
    "\n",
    "# Borra las celdas no nan\n",
    "indices_con_null=list(df_Time.time_str[df_Time.time_str=='nan'].index)\n",
    "df_Time=df_Time.drop(indices_con_null)\n",
    "df_Time.time_str.value_counts()"
   ]
  },
  {
   "cell_type": "code",
   "execution_count": 86,
   "metadata": {},
   "outputs": [],
   "source": [
    "# Categorizando los textos --> Morning\n",
    "\n",
    "contiene_morning=re.compile(r'(orning)')\n",
    "df_Time['morning']=df_Time[['time_str']].apply(lambda x: contiene_morning.findall(str(x)),axis=1)\n",
    "\n",
    "index_morning=list(df_Time.morning[df_Time.morning.apply(len)>0].index)\n",
    "df_Time.morning.loc[index_morning]='Morning'\n",
    "df_Time.Time.loc[index_morning]='Morning'"
   ]
  },
  {
   "cell_type": "code",
   "execution_count": 88,
   "metadata": {},
   "outputs": [],
   "source": [
    "# Categorizando los textos --> Afternoon\n",
    "\n",
    "contiene_aftern=re.compile(r'(fterno)|(Sunset)|(After noon)')\n",
    "df_Time['after']=df_Time[['time_str']].apply(lambda x: contiene_aftern.findall(str(x)),axis=1)\n",
    "\n",
    "index_aftern=list(df_Time.after[df_Time.after.apply(len)>0].index)\n",
    "df_Time.after.loc[index_aftern]='Afternoon'\n",
    "df_Time.Time.loc[index_aftern]='Afternoon'"
   ]
  },
  {
   "cell_type": "code",
   "execution_count": 89,
   "metadata": {},
   "outputs": [],
   "source": [
    "# Categorizando los textos --> night evening Dusk ..etc\n",
    "\n",
    "contiene_night=re.compile(r'(igh)|(vening)|(usk)|(Before daybreak)|(Dark)|(Just before dawn)')\n",
    "df_Time['night']=df_Time[['time_str']].apply(lambda x: contiene_night.findall(str(x)),axis=1)\n",
    "\n",
    "index_night=list(df_Time.night[df_Time.night.apply(len)>0].index)\n",
    "df_Time.night.loc[index_night]='Night'\n",
    "df_Time.Time.loc[index_night]='Night'"
   ]
  },
  {
   "cell_type": "code",
   "execution_count": 90,
   "metadata": {},
   "outputs": [
    {
     "data": {
      "text/plain": [
       "A.M.                                                                     12\n",
       "P.M.                                                                     12\n",
       "Midday                                                                   10\n",
       "--                                                                        5\n",
       "Just before noon                                                          2\n",
       "                                                                          2\n",
       "1600                                                                      2\n",
       "Dawn                                                                      2\n",
       "AM                                                                        2\n",
       "FATAL  (Wire netting installed at local beaches after this incident.)     1\n",
       "2 hours after Opperman                                                    1\n",
       "15j45                                                                     1\n",
       "                                                                          1\n",
       "2 hrs before sunset                                                       1\n",
       "0830                                                                      1\n",
       "Possibly same incident as 2000.08.21                                      1\n",
       "\"After dark\"                                                              1\n",
       "Just before sundown                                                       1\n",
       "\"After lunch\"                                                             1\n",
       "1500                                                                      1\n",
       "                                                                          1\n",
       "Midday.                                                                   1\n",
       "                                                                          1\n",
       "Lunchtime                                                                 1\n",
       "Noon                                                                      1\n",
       "X                                                                         1\n",
       "Daybreak                                                                  1\n",
       "0500                                                                      1\n",
       "30 minutes after 1992.07.08.a                                             1\n",
       "06j00                                                                     1\n",
       "9h00                                                                      1\n",
       "8:04 pm                                                                   1\n",
       "Daytime                                                                   1\n",
       "1300                                                                      1\n",
       "00h30                                                                     1\n",
       "Name: resto, dtype: int64"
      ]
     },
     "execution_count": 90,
     "metadata": {},
     "output_type": "execute_result"
    }
   ],
   "source": [
    "# Categorizando los textos --> los restos\n",
    "\n",
    "temp=df_Time[df_Time.morning==df_Time.after]\n",
    "df_Time['resto']=temp[temp.night.apply(len)==0].Time\n",
    "df_Time.resto.value_counts()"
   ]
  },
  {
   "cell_type": "code",
   "execution_count": 91,
   "metadata": {},
   "outputs": [],
   "source": [
    "# extre algunas hora \n",
    "Hora_con_ceros=re.compile(r'\\d{2}00\\s|\\d:\\d{2}|\\d+h')\n",
    "df_Time['resto_hora']=df_Time[['resto']].apply(lambda x: Hora_con_ceros.findall(str(x)),axis=1)\n",
    "\n",
    "#Cuando encuentra una celda con digitos, la convierte en cadena de carácteres\n",
    "def f_hora_con_ceros(x):\n",
    "    if x==[]:\n",
    "        return None\n",
    "    else:\n",
    "        x=str(x).replace('[','').replace(']','').replace(\"'\",'')\n",
    "        return x\n",
    "\n",
    "df_Time['resto_hora']=df_Time['resto_hora'].apply(f_hora_con_ceros)"
   ]
  },
  {
   "cell_type": "code",
   "execution_count": 92,
   "metadata": {},
   "outputs": [],
   "source": [
    "# convierte las cadenas a horas\n",
    "def f_hora_con_ceros(x):\n",
    "    if x is not None:\n",
    "        if x[0:2].isdigit():\n",
    "            x=int(x[0:2])\n",
    "        else:\n",
    "            x=int(x[0])        \n",
    "    return x\n",
    "\n",
    "df_Time['resto_hora']=df_Time['resto_hora'].apply(f_hora_con_ceros)"
   ]
  },
  {
   "cell_type": "code",
   "execution_count": 93,
   "metadata": {},
   "outputs": [
    {
     "name": "stderr",
     "output_type": "stream",
     "text": [
      "/usr/local/lib/python3.6/dist-packages/pandas/core/indexing.py:671: SettingWithCopyWarning: \n",
      "A value is trying to be set on a copy of a slice from a DataFrame\n",
      "\n",
      "See the caveats in the documentation: https://pandas.pydata.org/pandas-docs/stable/user_guide/indexing.html#returning-a-view-versus-a-copy\n",
      "  self._setitem_with_indexer(indexer, value)\n"
     ]
    }
   ],
   "source": [
    "# asignando horas según valor\n",
    "df_Time.resto_hora.loc[list(df_Time[df_Time.Time=='0830'].index)]=8\n",
    "df_Time.resto_hora.loc[list(df_Time[df_Time.Time=='Midday'].index)]=12\n",
    "df_Time.resto_hora.loc[list(df_Time[df_Time.Time=='Midday.'].index)]=12\n",
    "df_Time.resto_hora.loc[list(df_Time[df_Time.Time=='Just before noon'].index)]=12\n",
    "df_Time.resto_hora.loc[list(df_Time[df_Time.Time=='Dawn'].index)]=6\n",
    "df_Time.resto_hora.loc[list(df_Time[df_Time.Time=='Daybreak'].index)]=6\n",
    "df_Time.resto_hora.loc[list(df_Time[df_Time.Time=='Lunchtime'].index)]=12\n",
    "df_Time.resto_hora.loc[list(df_Time[df_Time.Time=='Noon'].index)]=12\n",
    "df_Time.resto_hora.loc[list(df_Time[df_Time.Time=='2 hrs before sunset'].index)]=17\n",
    "df_Time.resto_hora.loc[list(df_Time[df_Time.Time=='Just before sundown'].index)]=19\n",
    "df_Time.resto_hora.loc[list(df_Time[df_Time.Time=='\"After lunch\"'].index)]=14\n",
    "df_Time.resto_hora.loc[list(df_Time[df_Time.Time=='\"After dark\"'].index)]=21\n",
    "df_Time.resto_hora.loc[list(df_Time[df_Time.Time=='06j00'].index)]=6\n",
    "df_Time.resto_hora.loc[list(df_Time[df_Time.Time=='15j45'].index)]=16\n"
   ]
  },
  {
   "cell_type": "code",
   "execution_count": 94,
   "metadata": {},
   "outputs": [
    {
     "data": {
      "text/plain": [
       "A.M.                                                                     12\n",
       "P.M.                                                                     12\n",
       "--                                                                        5\n",
       "                                                                          2\n",
       "AM                                                                        2\n",
       "FATAL  (Wire netting installed at local beaches after this incident.)     1\n",
       "Daytime                                                                   1\n",
       "X                                                                         1\n",
       "                                                                          1\n",
       "                                                                          1\n",
       "                                                                          1\n",
       "2 hours after Opperman                                                    1\n",
       "30 minutes after 1992.07.08.a                                             1\n",
       "Possibly same incident as 2000.08.21                                      1\n",
       "Name: resto, dtype: int64"
      ]
     },
     "execution_count": 94,
     "metadata": {},
     "output_type": "execute_result"
    }
   ],
   "source": [
    "df_Time.resto[df_Time.resto_hora.isnull()].value_counts()"
   ]
  },
  {
   "cell_type": "code",
   "execution_count": 95,
   "metadata": {},
   "outputs": [
    {
     "data": {
      "text/html": [
       "<div>\n",
       "<style scoped>\n",
       "    .dataframe tbody tr th:only-of-type {\n",
       "        vertical-align: middle;\n",
       "    }\n",
       "\n",
       "    .dataframe tbody tr th {\n",
       "        vertical-align: top;\n",
       "    }\n",
       "\n",
       "    .dataframe thead th {\n",
       "        text-align: right;\n",
       "    }\n",
       "</style>\n",
       "<table border=\"1\" class=\"dataframe\">\n",
       "  <thead>\n",
       "    <tr style=\"text-align: right;\">\n",
       "      <th></th>\n",
       "      <th>Time</th>\n",
       "      <th>time_str</th>\n",
       "      <th>morning</th>\n",
       "      <th>after</th>\n",
       "      <th>night</th>\n",
       "      <th>resto</th>\n",
       "      <th>resto_hora</th>\n",
       "    </tr>\n",
       "  </thead>\n",
       "  <tbody>\n",
       "    <tr>\n",
       "      <th>98</th>\n",
       "      <td>Midday</td>\n",
       "      <td>Midday</td>\n",
       "      <td>[]</td>\n",
       "      <td>[]</td>\n",
       "      <td>[]</td>\n",
       "      <td>Midday</td>\n",
       "      <td>12.0</td>\n",
       "    </tr>\n",
       "    <tr>\n",
       "      <th>211</th>\n",
       "      <td>9h00</td>\n",
       "      <td>h</td>\n",
       "      <td>[]</td>\n",
       "      <td>[]</td>\n",
       "      <td>[]</td>\n",
       "      <td>9h00</td>\n",
       "      <td>9.0</td>\n",
       "    </tr>\n",
       "    <tr>\n",
       "      <th>244</th>\n",
       "      <td>1300</td>\n",
       "      <td></td>\n",
       "      <td>[]</td>\n",
       "      <td>[]</td>\n",
       "      <td>[]</td>\n",
       "      <td>1300</td>\n",
       "      <td>13.0</td>\n",
       "    </tr>\n",
       "    <tr>\n",
       "      <th>716</th>\n",
       "      <td>0830</td>\n",
       "      <td></td>\n",
       "      <td>[]</td>\n",
       "      <td>[]</td>\n",
       "      <td>[]</td>\n",
       "      <td>0830</td>\n",
       "      <td>8.0</td>\n",
       "    </tr>\n",
       "    <tr>\n",
       "      <th>743</th>\n",
       "      <td>Just before noon</td>\n",
       "      <td>Just before noon</td>\n",
       "      <td>[]</td>\n",
       "      <td>[]</td>\n",
       "      <td>[]</td>\n",
       "      <td>Just before noon</td>\n",
       "      <td>12.0</td>\n",
       "    </tr>\n",
       "    <tr>\n",
       "      <th>754</th>\n",
       "      <td>1600</td>\n",
       "      <td></td>\n",
       "      <td>[]</td>\n",
       "      <td>[]</td>\n",
       "      <td>[]</td>\n",
       "      <td>1600</td>\n",
       "      <td>16.0</td>\n",
       "    </tr>\n",
       "    <tr>\n",
       "      <th>834</th>\n",
       "      <td>Dawn</td>\n",
       "      <td>Dawn</td>\n",
       "      <td>[]</td>\n",
       "      <td>[]</td>\n",
       "      <td>[]</td>\n",
       "      <td>Dawn</td>\n",
       "      <td>6.0</td>\n",
       "    </tr>\n",
       "    <tr>\n",
       "      <th>921</th>\n",
       "      <td>Midday</td>\n",
       "      <td>Midday</td>\n",
       "      <td>[]</td>\n",
       "      <td>[]</td>\n",
       "      <td>[]</td>\n",
       "      <td>Midday</td>\n",
       "      <td>12.0</td>\n",
       "    </tr>\n",
       "    <tr>\n",
       "      <th>1098</th>\n",
       "      <td>Lunchtime</td>\n",
       "      <td>Lunchtime</td>\n",
       "      <td>[]</td>\n",
       "      <td>[]</td>\n",
       "      <td>[]</td>\n",
       "      <td>Lunchtime</td>\n",
       "      <td>12.0</td>\n",
       "    </tr>\n",
       "    <tr>\n",
       "      <th>1115</th>\n",
       "      <td>15j45</td>\n",
       "      <td>j</td>\n",
       "      <td>[]</td>\n",
       "      <td>[]</td>\n",
       "      <td>[]</td>\n",
       "      <td>15j45</td>\n",
       "      <td>16.0</td>\n",
       "    </tr>\n",
       "    <tr>\n",
       "      <th>1133</th>\n",
       "      <td>0500</td>\n",
       "      <td></td>\n",
       "      <td>[]</td>\n",
       "      <td>[]</td>\n",
       "      <td>[]</td>\n",
       "      <td>0500</td>\n",
       "      <td>5.0</td>\n",
       "    </tr>\n",
       "    <tr>\n",
       "      <th>1261</th>\n",
       "      <td>Just before noon</td>\n",
       "      <td>Just before noon</td>\n",
       "      <td>[]</td>\n",
       "      <td>[]</td>\n",
       "      <td>[]</td>\n",
       "      <td>Just before noon</td>\n",
       "      <td>12.0</td>\n",
       "    </tr>\n",
       "    <tr>\n",
       "      <th>1420</th>\n",
       "      <td>Just before sundown</td>\n",
       "      <td>Just before sundown</td>\n",
       "      <td>[]</td>\n",
       "      <td>[]</td>\n",
       "      <td>[]</td>\n",
       "      <td>Just before sundown</td>\n",
       "      <td>19.0</td>\n",
       "    </tr>\n",
       "    <tr>\n",
       "      <th>1705</th>\n",
       "      <td>Midday</td>\n",
       "      <td>Midday</td>\n",
       "      <td>[]</td>\n",
       "      <td>[]</td>\n",
       "      <td>[]</td>\n",
       "      <td>Midday</td>\n",
       "      <td>12.0</td>\n",
       "    </tr>\n",
       "    <tr>\n",
       "      <th>1751</th>\n",
       "      <td>00h30</td>\n",
       "      <td>h</td>\n",
       "      <td>[]</td>\n",
       "      <td>[]</td>\n",
       "      <td>[]</td>\n",
       "      <td>00h30</td>\n",
       "      <td>0.0</td>\n",
       "    </tr>\n",
       "    <tr>\n",
       "      <th>1960</th>\n",
       "      <td>8:04 pm</td>\n",
       "      <td>: pm</td>\n",
       "      <td>[]</td>\n",
       "      <td>[]</td>\n",
       "      <td>[]</td>\n",
       "      <td>8:04 pm</td>\n",
       "      <td>8.0</td>\n",
       "    </tr>\n",
       "    <tr>\n",
       "      <th>2095</th>\n",
       "      <td>Noon</td>\n",
       "      <td>Noon</td>\n",
       "      <td>[]</td>\n",
       "      <td>[]</td>\n",
       "      <td>[]</td>\n",
       "      <td>Noon</td>\n",
       "      <td>12.0</td>\n",
       "    </tr>\n",
       "    <tr>\n",
       "      <th>2259</th>\n",
       "      <td>Midday</td>\n",
       "      <td>Midday</td>\n",
       "      <td>[]</td>\n",
       "      <td>[]</td>\n",
       "      <td>[]</td>\n",
       "      <td>Midday</td>\n",
       "      <td>12.0</td>\n",
       "    </tr>\n",
       "    <tr>\n",
       "      <th>2829</th>\n",
       "      <td>06j00</td>\n",
       "      <td>j</td>\n",
       "      <td>[]</td>\n",
       "      <td>[]</td>\n",
       "      <td>[]</td>\n",
       "      <td>06j00</td>\n",
       "      <td>6.0</td>\n",
       "    </tr>\n",
       "    <tr>\n",
       "      <th>3018</th>\n",
       "      <td>Daybreak</td>\n",
       "      <td>Daybreak</td>\n",
       "      <td>[]</td>\n",
       "      <td>[]</td>\n",
       "      <td>[]</td>\n",
       "      <td>Daybreak</td>\n",
       "      <td>6.0</td>\n",
       "    </tr>\n",
       "    <tr>\n",
       "      <th>3429</th>\n",
       "      <td>1600</td>\n",
       "      <td></td>\n",
       "      <td>[]</td>\n",
       "      <td>[]</td>\n",
       "      <td>[]</td>\n",
       "      <td>1600</td>\n",
       "      <td>16.0</td>\n",
       "    </tr>\n",
       "    <tr>\n",
       "      <th>3559</th>\n",
       "      <td>Midday</td>\n",
       "      <td>Midday</td>\n",
       "      <td>[]</td>\n",
       "      <td>[]</td>\n",
       "      <td>[]</td>\n",
       "      <td>Midday</td>\n",
       "      <td>12.0</td>\n",
       "    </tr>\n",
       "    <tr>\n",
       "      <th>3560</th>\n",
       "      <td>Midday</td>\n",
       "      <td>Midday</td>\n",
       "      <td>[]</td>\n",
       "      <td>[]</td>\n",
       "      <td>[]</td>\n",
       "      <td>Midday</td>\n",
       "      <td>12.0</td>\n",
       "    </tr>\n",
       "    <tr>\n",
       "      <th>3597</th>\n",
       "      <td>\"After lunch\"</td>\n",
       "      <td>\"After lunch\"</td>\n",
       "      <td>[]</td>\n",
       "      <td>[]</td>\n",
       "      <td>[]</td>\n",
       "      <td>\"After lunch\"</td>\n",
       "      <td>14.0</td>\n",
       "    </tr>\n",
       "    <tr>\n",
       "      <th>3717</th>\n",
       "      <td>Dawn</td>\n",
       "      <td>Dawn</td>\n",
       "      <td>[]</td>\n",
       "      <td>[]</td>\n",
       "      <td>[]</td>\n",
       "      <td>Dawn</td>\n",
       "      <td>6.0</td>\n",
       "    </tr>\n",
       "    <tr>\n",
       "      <th>3796</th>\n",
       "      <td>Midday</td>\n",
       "      <td>Midday</td>\n",
       "      <td>[]</td>\n",
       "      <td>[]</td>\n",
       "      <td>[]</td>\n",
       "      <td>Midday</td>\n",
       "      <td>12.0</td>\n",
       "    </tr>\n",
       "    <tr>\n",
       "      <th>3817</th>\n",
       "      <td>Midday</td>\n",
       "      <td>Midday</td>\n",
       "      <td>[]</td>\n",
       "      <td>[]</td>\n",
       "      <td>[]</td>\n",
       "      <td>Midday</td>\n",
       "      <td>12.0</td>\n",
       "    </tr>\n",
       "    <tr>\n",
       "      <th>4295</th>\n",
       "      <td>Midday.</td>\n",
       "      <td>Midday.</td>\n",
       "      <td>[]</td>\n",
       "      <td>[]</td>\n",
       "      <td>[]</td>\n",
       "      <td>Midday.</td>\n",
       "      <td>12.0</td>\n",
       "    </tr>\n",
       "    <tr>\n",
       "      <th>4395</th>\n",
       "      <td>\"After dark\"</td>\n",
       "      <td>\"After dark\"</td>\n",
       "      <td>[]</td>\n",
       "      <td>[]</td>\n",
       "      <td>[]</td>\n",
       "      <td>\"After dark\"</td>\n",
       "      <td>21.0</td>\n",
       "    </tr>\n",
       "    <tr>\n",
       "      <th>4464</th>\n",
       "      <td>2 hrs before sunset</td>\n",
       "      <td>hrs before sunset</td>\n",
       "      <td>[]</td>\n",
       "      <td>[]</td>\n",
       "      <td>[]</td>\n",
       "      <td>2 hrs before sunset</td>\n",
       "      <td>17.0</td>\n",
       "    </tr>\n",
       "    <tr>\n",
       "      <th>4478</th>\n",
       "      <td>Midday</td>\n",
       "      <td>Midday</td>\n",
       "      <td>[]</td>\n",
       "      <td>[]</td>\n",
       "      <td>[]</td>\n",
       "      <td>Midday</td>\n",
       "      <td>12.0</td>\n",
       "    </tr>\n",
       "    <tr>\n",
       "      <th>4489</th>\n",
       "      <td>1500</td>\n",
       "      <td></td>\n",
       "      <td>[]</td>\n",
       "      <td>[]</td>\n",
       "      <td>[]</td>\n",
       "      <td>1500</td>\n",
       "      <td>15.0</td>\n",
       "    </tr>\n",
       "    <tr>\n",
       "      <th>5205</th>\n",
       "      <td>Midday</td>\n",
       "      <td>Midday</td>\n",
       "      <td>[]</td>\n",
       "      <td>[]</td>\n",
       "      <td>[]</td>\n",
       "      <td>Midday</td>\n",
       "      <td>12.0</td>\n",
       "    </tr>\n",
       "  </tbody>\n",
       "</table>\n",
       "</div>"
      ],
      "text/plain": [
       "                     Time             time_str morning after night  \\\n",
       "98                 Midday               Midday      []    []    []   \n",
       "211                  9h00                    h      []    []    []   \n",
       "244                  1300                           []    []    []   \n",
       "716                  0830                           []    []    []   \n",
       "743      Just before noon     Just before noon      []    []    []   \n",
       "754                  1600                           []    []    []   \n",
       "834                  Dawn                 Dawn      []    []    []   \n",
       "921                Midday               Midday      []    []    []   \n",
       "1098            Lunchtime            Lunchtime      []    []    []   \n",
       "1115                15j45                    j      []    []    []   \n",
       "1133                 0500                           []    []    []   \n",
       "1261     Just before noon     Just before noon      []    []    []   \n",
       "1420  Just before sundown  Just before sundown      []    []    []   \n",
       "1705               Midday               Midday      []    []    []   \n",
       "1751                00h30                    h      []    []    []   \n",
       "1960              8:04 pm                 : pm      []    []    []   \n",
       "2095                 Noon                 Noon      []    []    []   \n",
       "2259               Midday               Midday      []    []    []   \n",
       "2829                06j00                    j      []    []    []   \n",
       "3018             Daybreak             Daybreak      []    []    []   \n",
       "3429                 1600                           []    []    []   \n",
       "3559               Midday               Midday      []    []    []   \n",
       "3560               Midday               Midday      []    []    []   \n",
       "3597        \"After lunch\"        \"After lunch\"      []    []    []   \n",
       "3717                 Dawn                 Dawn      []    []    []   \n",
       "3796               Midday               Midday      []    []    []   \n",
       "3817               Midday               Midday      []    []    []   \n",
       "4295              Midday.              Midday.      []    []    []   \n",
       "4395         \"After dark\"         \"After dark\"      []    []    []   \n",
       "4464  2 hrs before sunset    hrs before sunset      []    []    []   \n",
       "4478               Midday               Midday      []    []    []   \n",
       "4489                 1500                           []    []    []   \n",
       "5205               Midday               Midday      []    []    []   \n",
       "\n",
       "                    resto  resto_hora  \n",
       "98                 Midday        12.0  \n",
       "211                  9h00         9.0  \n",
       "244                  1300        13.0  \n",
       "716                  0830         8.0  \n",
       "743      Just before noon        12.0  \n",
       "754                  1600        16.0  \n",
       "834                  Dawn         6.0  \n",
       "921                Midday        12.0  \n",
       "1098            Lunchtime        12.0  \n",
       "1115                15j45        16.0  \n",
       "1133                 0500         5.0  \n",
       "1261     Just before noon        12.0  \n",
       "1420  Just before sundown        19.0  \n",
       "1705               Midday        12.0  \n",
       "1751                00h30         0.0  \n",
       "1960              8:04 pm         8.0  \n",
       "2095                 Noon        12.0  \n",
       "2259               Midday        12.0  \n",
       "2829                06j00         6.0  \n",
       "3018             Daybreak         6.0  \n",
       "3429                 1600        16.0  \n",
       "3559               Midday        12.0  \n",
       "3560               Midday        12.0  \n",
       "3597        \"After lunch\"        14.0  \n",
       "3717                 Dawn         6.0  \n",
       "3796               Midday        12.0  \n",
       "3817               Midday        12.0  \n",
       "4295              Midday.        12.0  \n",
       "4395         \"After dark\"        21.0  \n",
       "4464  2 hrs before sunset        17.0  \n",
       "4478               Midday        12.0  \n",
       "4489                 1500        15.0  \n",
       "5205               Midday        12.0  "
      ]
     },
     "execution_count": 95,
     "metadata": {},
     "output_type": "execute_result"
    }
   ],
   "source": [
    "# limpia los valores que no se pueden saber \n",
    "df_Time=df_Time.drop('time_str_fil',axis=1)\n",
    "df_Time=df_Time.drop(list(df_Time.resto[df_Time.resto_hora.isnull()].index))\n",
    "df_Time"
   ]
  },
  {
   "cell_type": "code",
   "execution_count": null,
   "metadata": {},
   "outputs": [],
   "source": [
    "# Actualiza hora\n",
    "df_Time.Time.loc[df_Time]"
   ]
  },
  {
   "cell_type": "code",
   "execution_count": 63,
   "metadata": {},
   "outputs": [
    {
     "data": {
      "text/plain": [
       "12.0                                                                     14\n",
       "P.M.                                                                     12\n",
       "A.M.                                                                     12\n",
       "--                                                                        5\n",
       "6.0                                                                       3\n",
       "16.0                                                                      2\n",
       "AM                                                                        2\n",
       "8.0                                                                       2\n",
       "                                                                          2\n",
       "Midday.                                                                   1\n",
       "15.0                                                                      1\n",
       "5.0                                                                       1\n",
       "9.0                                                                       1\n",
       "15j45                                                                     1\n",
       "13.0                                                                      1\n",
       "\"After lunch\"                                                             1\n",
       "\"After dark\"                                                              1\n",
       "                                                                          1\n",
       "Just before sundown                                                       1\n",
       "2 hours after Opperman                                                    1\n",
       "                                                                          1\n",
       "FATAL  (Wire netting installed at local beaches after this incident.)     1\n",
       "2 hrs before sunset                                                       1\n",
       "                                                                          1\n",
       "Daytime                                                                   1\n",
       "X                                                                         1\n",
       "30 minutes after 1992.07.08.a                                             1\n",
       "06j00                                                                     1\n",
       "Possibly same incident as 2000.08.21                                      1\n",
       "0.0                                                                       1\n",
       "Name: resto, dtype: int64"
      ]
     },
     "execution_count": 63,
     "metadata": {},
     "output_type": "execute_result"
    }
   ],
   "source": [
    "df_Time.resto.value_counts()"
   ]
  },
  {
   "cell_type": "markdown",
   "metadata": {},
   "source": [
    "# Cleaning columns -- \"Fatal (Y/N)\""
   ]
  },
  {
   "cell_type": "code",
   "execution_count": 30,
   "metadata": {},
   "outputs": [
    {
     "name": "stdout",
     "output_type": "stream",
     "text": [
      "N          4293\n",
      "Y          1388\n",
      "UNKNOWN      71\n",
      " N            7\n",
      "N             1\n",
      "2017          1\n",
      "y             1\n",
      "M             1\n",
      "Name: Fatal (Y/N), dtype: int64\n",
      "numero total de columnas --> (6309, 22)\n",
      "numero total de columnas Null --> (546, 22)\n"
     ]
    }
   ],
   "source": [
    "\n",
    "\n",
    "print(df['Fatal (Y/N)'].value_counts())\n",
    "\n",
    "print(f\"numero total de columnas --> {df.shape}\")\n",
    "print(f\"numero total de columnas Null --> { df[df['Fatal (Y/N)'].isnull()].shape }\")\n",
    "# great numbers of nulls\n",
    "\n",
    "#df['Fatal (Y/N)'].apply(lambda x: True if re.search(r'[^N|\"UNKOWN\"|\"y\"|\"Y\"]',x) else False)"
   ]
  },
  {
   "cell_type": "markdown",
   "metadata": {},
   "source": [
    "- Analizing the columns: original order, href, href formula ,pdf, Investigator or Source, Name"
   ]
  },
  {
   "cell_type": "code",
   "execution_count": 31,
   "metadata": {},
   "outputs": [
    {
     "data": {
      "text/plain": [
       "count    6309.000000\n",
       "mean     3155.999683\n",
       "std      1821.396206\n",
       "min         2.000000\n",
       "25%      1579.000000\n",
       "50%      3156.000000\n",
       "75%      4733.000000\n",
       "max      6310.000000\n",
       "Name: original order, dtype: float64"
      ]
     },
     "execution_count": 31,
     "metadata": {},
     "output_type": "execute_result"
    }
   ],
   "source": [
    "df[\"original order\"].describe()"
   ]
  },
  {
   "cell_type": "markdown",
   "metadata": {},
   "source": [
    "#### Reflexion\n",
    "It seems to be an index to register the attacks, so the information of consecutive if it was a time trend will be in the dates"
   ]
  },
  {
   "cell_type": "code",
   "execution_count": 32,
   "metadata": {},
   "outputs": [
    {
     "data": {
      "text/plain": [
       "http://sharkattackfile.net/spreadsheets/pdf_directory/w014.01.25-Grant.pdf                   4\n",
       "http://sharkattackfile.net/spreadsheets/pdf_directory/2014.10.02.b-Vandenberg.pdf            3\n",
       "http://sharkattackfile.net/spreadsheets/pdf_directory/1916.07.12.a-b-Stillwell-Fisher.pdf    2\n",
       "http://sharkattackfile.net/spreadsheets/pdf_directory/2014.10.14-Bandy.pdf                   2\n",
       "http://sharkattackfile.net/spreadsheets/pdf_directory/1898.00.00.R-Syria.pdf                 2\n",
       "                                                                                            ..\n",
       "http://sharkattackfile.net/spreadsheets/pdf_directory/493BC-PersianFleet.pdf                 1\n",
       "http://sharkattackfile.net/spreadsheets/pdf_directory/1996.05.24-Bowring.pdf                 1\n",
       "http://sharkattackfile.net/spreadsheets/pdf_directory/2011.08.18-Siderovich.pdf              1\n",
       "http://sharkattackfile.net/spreadsheets/pdf_directory/2009.03.27-TonyDell.pdf                1\n",
       "http://sharkattackfile.net/spreadsheets/pdf_directory/1894.09.06.R-FijianGirl.pdf            1\n",
       "Name: href, Length: 6285, dtype: int64"
      ]
     },
     "execution_count": 32,
     "metadata": {},
     "output_type": "execute_result"
    }
   ],
   "source": [
    "df[\"href\"].value_counts()"
   ]
  },
  {
   "cell_type": "markdown",
   "metadata": {},
   "source": [
    "#### Reflexion\n",
    "It seems as a link to the pdf register of the attack, there are 4 register in one file, perhaps it could be repeated registers with the same information... let us check"
   ]
  },
  {
   "cell_type": "code",
   "execution_count": 33,
   "metadata": {},
   "outputs": [
    {
     "data": {
      "text/plain": [
       "0       False\n",
       "1       False\n",
       "2       False\n",
       "3       False\n",
       "4       False\n",
       "        ...  \n",
       "6304    False\n",
       "6305    False\n",
       "6306    False\n",
       "6307    False\n",
       "6308    False\n",
       "Length: 6309, dtype: bool"
      ]
     },
     "execution_count": 33,
     "metadata": {},
     "output_type": "execute_result"
    }
   ],
   "source": [
    "df.duplicated()"
   ]
  },
  {
   "cell_type": "code",
   "execution_count": 34,
   "metadata": {},
   "outputs": [
    {
     "data": {
      "text/plain": [
       "http://sharkattackfile.net/spreadsheets/pdf_directory/1921.11.27.a-b-Jack.pdf                2\n",
       "http://sharkattackfile.net/spreadsheets/pdf_directory/1934.12.23.a-b-Inman.pdf               2\n",
       "http://sharkattackfile.net/spreadsheets/pdf_directory/1916.07.12.a-b-Stillwell-Fisher.pdf    2\n",
       "http://sharkattackfile.net/spreadsheets/pdf_directory/1898.00.00.R-Syria.pdf                 2\n",
       "http://sharkattackfile.net/spreadsheets/pdf_directory/1916.12.08.a-b-German.pdf              2\n",
       "                                                                                            ..\n",
       "http://sharkattackfile.net/spreadsheets/pdf_directory/493BC-PersianFleet.pdf                 1\n",
       "http://sharkattackfile.net/spreadsheets/pdf_directory/1996.05.24-Bowring.pdf                 1\n",
       "http://sharkattackfile.net/spreadsheets/pdf_directory/2011.08.18-Siderovich.pdf              1\n",
       "http://sharkattackfile.net/spreadsheets/pdf_directory/2009.03.27-TonyDell.pdf                1\n",
       "http://sharkattackfile.net/spreadsheets/pdf_directory/1894.09.06.R-FijianGirl.pdf            1\n",
       "Name: href formula, Length: 6290, dtype: int64"
      ]
     },
     "execution_count": 34,
     "metadata": {},
     "output_type": "execute_result"
    }
   ],
   "source": [
    "df[\"href formula\"].value_counts()"
   ]
  },
  {
   "cell_type": "code",
   "execution_count": 35,
   "metadata": {},
   "outputs": [
    {
     "data": {
      "text/plain": [
       "1934.12.23.a-b-Inman.pdf          2\n",
       "1898.00.00.R-Syria.pdf            2\n",
       "1923.00.00.a-NJ fisherman.pdf     2\n",
       "1916.12.08.a-b-German.pdf         2\n",
       "1921.11.27.a-b-Jack.pdf           2\n",
       "                                 ..\n",
       "2006.10.10-Cody.pdf               1\n",
       "2003.04.25-Marinho.pdf            1\n",
       "2017.09.16.b-GrandCanary.pdf      1\n",
       "1920.11.04-Philippines.pdf        1\n",
       "2007.05.08-KingscliffBeach.pdf    1\n",
       "Name: pdf, Length: 6291, dtype: int64"
      ]
     },
     "execution_count": 35,
     "metadata": {},
     "output_type": "execute_result"
    }
   ],
   "source": [
    "df[\"pdf\"].value_counts()"
   ]
  },
  {
   "cell_type": "code",
   "execution_count": 36,
   "metadata": {},
   "outputs": [
    {
     "data": {
      "text/plain": [
       "C. Moore, GSAF                                                                                                                  105\n",
       "C. Creswell, GSAF                                                                                                                92\n",
       "S. Petersohn, GSAF                                                                                                               82\n",
       "R. Collier                                                                                                                       55\n",
       "R. Collier, GSAF                                                                                                                 48\n",
       "                                                                                                                               ... \n",
       "R. O'Connor, M. Levine, GSAF                                                                                                      1\n",
       "Letter from Captain Raoul G. Rehrer in letter to G.A. Llano in Sharks and Survival, pp.381-382; V.M. Coppleson (1962), p.257      1\n",
       "Advertiser, 8/28/1992, p.3; J. West, ASAF                                                                                         1\n",
       "A. Blaker                                                                                                                         1\n",
       "Galveston Daily News, 9/16/1892                                                                                                   1\n",
       "Name: Investigator or Source, Length: 4969, dtype: int64"
      ]
     },
     "execution_count": 36,
     "metadata": {},
     "output_type": "execute_result"
    }
   ],
   "source": [
    "df[\"Investigator or Source\"].value_counts()"
   ]
  },
  {
   "cell_type": "code",
   "execution_count": 37,
   "metadata": {},
   "outputs": [
    {
     "data": {
      "text/plain": [
       "male                     550\n",
       "female                    97\n",
       "boy                       23\n",
       "2 males                   16\n",
       "boat                      14\n",
       "                        ... \n",
       "Anthony Bunn               1\n",
       "Patrick  Rooney            1\n",
       "Brian Hovnanian            1\n",
       "Kimberly McClain           1\n",
       "Sharon Wolfe Cranston      1\n",
       "Name: Name, Length: 5230, dtype: int64"
      ]
     },
     "execution_count": 37,
     "metadata": {},
     "output_type": "execute_result"
    }
   ],
   "source": [
    "df[\"Name\"].value_counts()"
   ]
  },
  {
   "cell_type": "code",
   "execution_count": null,
   "metadata": {},
   "outputs": [],
   "source": []
  }
 ],
 "metadata": {
  "kernelspec": {
   "display_name": "Python 3",
   "language": "python",
   "name": "python3"
  },
  "language_info": {
   "codemirror_mode": {
    "name": "ipython",
    "version": 3
   },
   "file_extension": ".py",
   "mimetype": "text/x-python",
   "name": "python",
   "nbconvert_exporter": "python",
   "pygments_lexer": "ipython3",
   "version": "3.6.9"
  }
 },
 "nbformat": 4,
 "nbformat_minor": 2
}
